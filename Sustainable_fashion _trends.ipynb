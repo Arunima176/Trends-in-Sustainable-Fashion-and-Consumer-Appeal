{
  "cells": [
    {
      "cell_type": "code",
      "execution_count": null,
      "metadata": {
        "id": "GTet67DAbCaR"
      },
      "outputs": [],
      "source": [
        "import pandas as pd\n",
        "import matplotlib.pyplot as plt\n",
        "import numpy as np\n",
        "import seaborn as sns\n",
        "from scipy.stats import shapiro\n",
        "from scipy.stats import levene\n",
        "from scipy.stats import ttest_ind\n",
        "from scipy.stats import mannwhitneyu\n",
        "from scipy.stats import f_oneway\n",
        "from scipy.stats import kruskal\n"
      ]
    },
    {
      "cell_type": "code",
      "execution_count": null,
      "metadata": {
        "colab": {
          "base_uri": "https://localhost:8080/",
          "height": 313
        },
        "id": "OCJ0PLpdbYhQ",
        "outputId": "f4c3f381-adfc-401c-e1fb-696e9be69e1a"
      },
      "outputs": [
        {
          "output_type": "execute_result",
          "data": {
            "text/plain": [
              "     Brand_ID Brand_Name    Country  Year Sustainability_Rating  \\\n",
              "0  BRAND-0001    Brand_1  Australia  2018                     D   \n",
              "1  BRAND-0002    Brand_2      Japan  2015                     D   \n",
              "2  BRAND-0003    Brand_3        USA  2024                     A   \n",
              "3  BRAND-0004    Brand_4      Italy  2023                     D   \n",
              "4  BRAND-0005    Brand_5        USA  2016                     D   \n",
              "\n",
              "   Material_Type Eco_Friendly_Manufacturing  Carbon_Footprint_MT  \\\n",
              "0         Tencel                         No                 1.75   \n",
              "1  Vegan Leather                        Yes               124.39   \n",
              "2  Vegan Leather                         No               336.66   \n",
              "3  Bamboo Fabric                         No               152.04   \n",
              "4  Bamboo Fabric                        Yes               415.63   \n",
              "\n",
              "   Water_Usage_Liters  Waste_Production_KG Recycling_Programs  Product_Lines  \\\n",
              "0          4511152.79             97844.11                 No              2   \n",
              "1          1951566.31             37267.75                 No             15   \n",
              "2           467454.52             38385.92                 No              2   \n",
              "3           899576.90             32665.45                 No             13   \n",
              "4          1809219.90             37295.47                Yes             19   \n",
              "\n",
              "   Average_Price_USD Market_Trend Certifications  \n",
              "0              38.33      Growing           GOTS  \n",
              "1             250.07      Growing           GOTS  \n",
              "2             146.16      Growing         B Corp  \n",
              "3             165.52       Stable       OEKO-TEX  \n",
              "4             211.63       Stable     Fair Trade  "
            ],
            "text/html": [
              "\n",
              "  <div id=\"df-33e47fc3-c594-469d-8c22-f79446ccbbc2\" class=\"colab-df-container\">\n",
              "    <div>\n",
              "<style scoped>\n",
              "    .dataframe tbody tr th:only-of-type {\n",
              "        vertical-align: middle;\n",
              "    }\n",
              "\n",
              "    .dataframe tbody tr th {\n",
              "        vertical-align: top;\n",
              "    }\n",
              "\n",
              "    .dataframe thead th {\n",
              "        text-align: right;\n",
              "    }\n",
              "</style>\n",
              "<table border=\"1\" class=\"dataframe\">\n",
              "  <thead>\n",
              "    <tr style=\"text-align: right;\">\n",
              "      <th></th>\n",
              "      <th>Brand_ID</th>\n",
              "      <th>Brand_Name</th>\n",
              "      <th>Country</th>\n",
              "      <th>Year</th>\n",
              "      <th>Sustainability_Rating</th>\n",
              "      <th>Material_Type</th>\n",
              "      <th>Eco_Friendly_Manufacturing</th>\n",
              "      <th>Carbon_Footprint_MT</th>\n",
              "      <th>Water_Usage_Liters</th>\n",
              "      <th>Waste_Production_KG</th>\n",
              "      <th>Recycling_Programs</th>\n",
              "      <th>Product_Lines</th>\n",
              "      <th>Average_Price_USD</th>\n",
              "      <th>Market_Trend</th>\n",
              "      <th>Certifications</th>\n",
              "    </tr>\n",
              "  </thead>\n",
              "  <tbody>\n",
              "    <tr>\n",
              "      <th>0</th>\n",
              "      <td>BRAND-0001</td>\n",
              "      <td>Brand_1</td>\n",
              "      <td>Australia</td>\n",
              "      <td>2018</td>\n",
              "      <td>D</td>\n",
              "      <td>Tencel</td>\n",
              "      <td>No</td>\n",
              "      <td>1.75</td>\n",
              "      <td>4511152.79</td>\n",
              "      <td>97844.11</td>\n",
              "      <td>No</td>\n",
              "      <td>2</td>\n",
              "      <td>38.33</td>\n",
              "      <td>Growing</td>\n",
              "      <td>GOTS</td>\n",
              "    </tr>\n",
              "    <tr>\n",
              "      <th>1</th>\n",
              "      <td>BRAND-0002</td>\n",
              "      <td>Brand_2</td>\n",
              "      <td>Japan</td>\n",
              "      <td>2015</td>\n",
              "      <td>D</td>\n",
              "      <td>Vegan Leather</td>\n",
              "      <td>Yes</td>\n",
              "      <td>124.39</td>\n",
              "      <td>1951566.31</td>\n",
              "      <td>37267.75</td>\n",
              "      <td>No</td>\n",
              "      <td>15</td>\n",
              "      <td>250.07</td>\n",
              "      <td>Growing</td>\n",
              "      <td>GOTS</td>\n",
              "    </tr>\n",
              "    <tr>\n",
              "      <th>2</th>\n",
              "      <td>BRAND-0003</td>\n",
              "      <td>Brand_3</td>\n",
              "      <td>USA</td>\n",
              "      <td>2024</td>\n",
              "      <td>A</td>\n",
              "      <td>Vegan Leather</td>\n",
              "      <td>No</td>\n",
              "      <td>336.66</td>\n",
              "      <td>467454.52</td>\n",
              "      <td>38385.92</td>\n",
              "      <td>No</td>\n",
              "      <td>2</td>\n",
              "      <td>146.16</td>\n",
              "      <td>Growing</td>\n",
              "      <td>B Corp</td>\n",
              "    </tr>\n",
              "    <tr>\n",
              "      <th>3</th>\n",
              "      <td>BRAND-0004</td>\n",
              "      <td>Brand_4</td>\n",
              "      <td>Italy</td>\n",
              "      <td>2023</td>\n",
              "      <td>D</td>\n",
              "      <td>Bamboo Fabric</td>\n",
              "      <td>No</td>\n",
              "      <td>152.04</td>\n",
              "      <td>899576.90</td>\n",
              "      <td>32665.45</td>\n",
              "      <td>No</td>\n",
              "      <td>13</td>\n",
              "      <td>165.52</td>\n",
              "      <td>Stable</td>\n",
              "      <td>OEKO-TEX</td>\n",
              "    </tr>\n",
              "    <tr>\n",
              "      <th>4</th>\n",
              "      <td>BRAND-0005</td>\n",
              "      <td>Brand_5</td>\n",
              "      <td>USA</td>\n",
              "      <td>2016</td>\n",
              "      <td>D</td>\n",
              "      <td>Bamboo Fabric</td>\n",
              "      <td>Yes</td>\n",
              "      <td>415.63</td>\n",
              "      <td>1809219.90</td>\n",
              "      <td>37295.47</td>\n",
              "      <td>Yes</td>\n",
              "      <td>19</td>\n",
              "      <td>211.63</td>\n",
              "      <td>Stable</td>\n",
              "      <td>Fair Trade</td>\n",
              "    </tr>\n",
              "  </tbody>\n",
              "</table>\n",
              "</div>\n",
              "    <div class=\"colab-df-buttons\">\n",
              "\n",
              "  <div class=\"colab-df-container\">\n",
              "    <button class=\"colab-df-convert\" onclick=\"convertToInteractive('df-33e47fc3-c594-469d-8c22-f79446ccbbc2')\"\n",
              "            title=\"Convert this dataframe to an interactive table.\"\n",
              "            style=\"display:none;\">\n",
              "\n",
              "  <svg xmlns=\"http://www.w3.org/2000/svg\" height=\"24px\" viewBox=\"0 -960 960 960\">\n",
              "    <path d=\"M120-120v-720h720v720H120Zm60-500h600v-160H180v160Zm220 220h160v-160H400v160Zm0 220h160v-160H400v160ZM180-400h160v-160H180v160Zm440 0h160v-160H620v160ZM180-180h160v-160H180v160Zm440 0h160v-160H620v160Z\"/>\n",
              "  </svg>\n",
              "    </button>\n",
              "\n",
              "  <style>\n",
              "    .colab-df-container {\n",
              "      display:flex;\n",
              "      gap: 12px;\n",
              "    }\n",
              "\n",
              "    .colab-df-convert {\n",
              "      background-color: #E8F0FE;\n",
              "      border: none;\n",
              "      border-radius: 50%;\n",
              "      cursor: pointer;\n",
              "      display: none;\n",
              "      fill: #1967D2;\n",
              "      height: 32px;\n",
              "      padding: 0 0 0 0;\n",
              "      width: 32px;\n",
              "    }\n",
              "\n",
              "    .colab-df-convert:hover {\n",
              "      background-color: #E2EBFA;\n",
              "      box-shadow: 0px 1px 2px rgba(60, 64, 67, 0.3), 0px 1px 3px 1px rgba(60, 64, 67, 0.15);\n",
              "      fill: #174EA6;\n",
              "    }\n",
              "\n",
              "    .colab-df-buttons div {\n",
              "      margin-bottom: 4px;\n",
              "    }\n",
              "\n",
              "    [theme=dark] .colab-df-convert {\n",
              "      background-color: #3B4455;\n",
              "      fill: #D2E3FC;\n",
              "    }\n",
              "\n",
              "    [theme=dark] .colab-df-convert:hover {\n",
              "      background-color: #434B5C;\n",
              "      box-shadow: 0px 1px 3px 1px rgba(0, 0, 0, 0.15);\n",
              "      filter: drop-shadow(0px 1px 2px rgba(0, 0, 0, 0.3));\n",
              "      fill: #FFFFFF;\n",
              "    }\n",
              "  </style>\n",
              "\n",
              "    <script>\n",
              "      const buttonEl =\n",
              "        document.querySelector('#df-33e47fc3-c594-469d-8c22-f79446ccbbc2 button.colab-df-convert');\n",
              "      buttonEl.style.display =\n",
              "        google.colab.kernel.accessAllowed ? 'block' : 'none';\n",
              "\n",
              "      async function convertToInteractive(key) {\n",
              "        const element = document.querySelector('#df-33e47fc3-c594-469d-8c22-f79446ccbbc2');\n",
              "        const dataTable =\n",
              "          await google.colab.kernel.invokeFunction('convertToInteractive',\n",
              "                                                    [key], {});\n",
              "        if (!dataTable) return;\n",
              "\n",
              "        const docLinkHtml = 'Like what you see? Visit the ' +\n",
              "          '<a target=\"_blank\" href=https://colab.research.google.com/notebooks/data_table.ipynb>data table notebook</a>'\n",
              "          + ' to learn more about interactive tables.';\n",
              "        element.innerHTML = '';\n",
              "        dataTable['output_type'] = 'display_data';\n",
              "        await google.colab.output.renderOutput(dataTable, element);\n",
              "        const docLink = document.createElement('div');\n",
              "        docLink.innerHTML = docLinkHtml;\n",
              "        element.appendChild(docLink);\n",
              "      }\n",
              "    </script>\n",
              "  </div>\n",
              "\n",
              "\n",
              "<div id=\"df-04c91daf-094b-4565-9eb9-a840eaf72c40\">\n",
              "  <button class=\"colab-df-quickchart\" onclick=\"quickchart('df-04c91daf-094b-4565-9eb9-a840eaf72c40')\"\n",
              "            title=\"Suggest charts\"\n",
              "            style=\"display:none;\">\n",
              "\n",
              "<svg xmlns=\"http://www.w3.org/2000/svg\" height=\"24px\"viewBox=\"0 0 24 24\"\n",
              "     width=\"24px\">\n",
              "    <g>\n",
              "        <path d=\"M19 3H5c-1.1 0-2 .9-2 2v14c0 1.1.9 2 2 2h14c1.1 0 2-.9 2-2V5c0-1.1-.9-2-2-2zM9 17H7v-7h2v7zm4 0h-2V7h2v10zm4 0h-2v-4h2v4z\"/>\n",
              "    </g>\n",
              "</svg>\n",
              "  </button>\n",
              "\n",
              "<style>\n",
              "  .colab-df-quickchart {\n",
              "      --bg-color: #E8F0FE;\n",
              "      --fill-color: #1967D2;\n",
              "      --hover-bg-color: #E2EBFA;\n",
              "      --hover-fill-color: #174EA6;\n",
              "      --disabled-fill-color: #AAA;\n",
              "      --disabled-bg-color: #DDD;\n",
              "  }\n",
              "\n",
              "  [theme=dark] .colab-df-quickchart {\n",
              "      --bg-color: #3B4455;\n",
              "      --fill-color: #D2E3FC;\n",
              "      --hover-bg-color: #434B5C;\n",
              "      --hover-fill-color: #FFFFFF;\n",
              "      --disabled-bg-color: #3B4455;\n",
              "      --disabled-fill-color: #666;\n",
              "  }\n",
              "\n",
              "  .colab-df-quickchart {\n",
              "    background-color: var(--bg-color);\n",
              "    border: none;\n",
              "    border-radius: 50%;\n",
              "    cursor: pointer;\n",
              "    display: none;\n",
              "    fill: var(--fill-color);\n",
              "    height: 32px;\n",
              "    padding: 0;\n",
              "    width: 32px;\n",
              "  }\n",
              "\n",
              "  .colab-df-quickchart:hover {\n",
              "    background-color: var(--hover-bg-color);\n",
              "    box-shadow: 0 1px 2px rgba(60, 64, 67, 0.3), 0 1px 3px 1px rgba(60, 64, 67, 0.15);\n",
              "    fill: var(--button-hover-fill-color);\n",
              "  }\n",
              "\n",
              "  .colab-df-quickchart-complete:disabled,\n",
              "  .colab-df-quickchart-complete:disabled:hover {\n",
              "    background-color: var(--disabled-bg-color);\n",
              "    fill: var(--disabled-fill-color);\n",
              "    box-shadow: none;\n",
              "  }\n",
              "\n",
              "  .colab-df-spinner {\n",
              "    border: 2px solid var(--fill-color);\n",
              "    border-color: transparent;\n",
              "    border-bottom-color: var(--fill-color);\n",
              "    animation:\n",
              "      spin 1s steps(1) infinite;\n",
              "  }\n",
              "\n",
              "  @keyframes spin {\n",
              "    0% {\n",
              "      border-color: transparent;\n",
              "      border-bottom-color: var(--fill-color);\n",
              "      border-left-color: var(--fill-color);\n",
              "    }\n",
              "    20% {\n",
              "      border-color: transparent;\n",
              "      border-left-color: var(--fill-color);\n",
              "      border-top-color: var(--fill-color);\n",
              "    }\n",
              "    30% {\n",
              "      border-color: transparent;\n",
              "      border-left-color: var(--fill-color);\n",
              "      border-top-color: var(--fill-color);\n",
              "      border-right-color: var(--fill-color);\n",
              "    }\n",
              "    40% {\n",
              "      border-color: transparent;\n",
              "      border-right-color: var(--fill-color);\n",
              "      border-top-color: var(--fill-color);\n",
              "    }\n",
              "    60% {\n",
              "      border-color: transparent;\n",
              "      border-right-color: var(--fill-color);\n",
              "    }\n",
              "    80% {\n",
              "      border-color: transparent;\n",
              "      border-right-color: var(--fill-color);\n",
              "      border-bottom-color: var(--fill-color);\n",
              "    }\n",
              "    90% {\n",
              "      border-color: transparent;\n",
              "      border-bottom-color: var(--fill-color);\n",
              "    }\n",
              "  }\n",
              "</style>\n",
              "\n",
              "  <script>\n",
              "    async function quickchart(key) {\n",
              "      const quickchartButtonEl =\n",
              "        document.querySelector('#' + key + ' button');\n",
              "      quickchartButtonEl.disabled = true;  // To prevent multiple clicks.\n",
              "      quickchartButtonEl.classList.add('colab-df-spinner');\n",
              "      try {\n",
              "        const charts = await google.colab.kernel.invokeFunction(\n",
              "            'suggestCharts', [key], {});\n",
              "      } catch (error) {\n",
              "        console.error('Error during call to suggestCharts:', error);\n",
              "      }\n",
              "      quickchartButtonEl.classList.remove('colab-df-spinner');\n",
              "      quickchartButtonEl.classList.add('colab-df-quickchart-complete');\n",
              "    }\n",
              "    (() => {\n",
              "      let quickchartButtonEl =\n",
              "        document.querySelector('#df-04c91daf-094b-4565-9eb9-a840eaf72c40 button');\n",
              "      quickchartButtonEl.style.display =\n",
              "        google.colab.kernel.accessAllowed ? 'block' : 'none';\n",
              "    })();\n",
              "  </script>\n",
              "</div>\n",
              "\n",
              "    </div>\n",
              "  </div>\n"
            ],
            "application/vnd.google.colaboratory.intrinsic+json": {
              "type": "dataframe",
              "variable_name": "df",
              "summary": "{\n  \"name\": \"df\",\n  \"rows\": 5000,\n  \"fields\": [\n    {\n      \"column\": \"Brand_ID\",\n      \"properties\": {\n        \"dtype\": \"string\",\n        \"num_unique_values\": 5000,\n        \"samples\": [\n          \"BRAND-1502\",\n          \"BRAND-2587\",\n          \"BRAND-2654\"\n        ],\n        \"semantic_type\": \"\",\n        \"description\": \"\"\n      }\n    },\n    {\n      \"column\": \"Brand_Name\",\n      \"properties\": {\n        \"dtype\": \"string\",\n        \"num_unique_values\": 5000,\n        \"samples\": [\n          \"Brand_1502\",\n          \"Brand_2587\",\n          \"Brand_2654\"\n        ],\n        \"semantic_type\": \"\",\n        \"description\": \"\"\n      }\n    },\n    {\n      \"column\": \"Country\",\n      \"properties\": {\n        \"dtype\": \"category\",\n        \"num_unique_values\": 10,\n        \"samples\": [\n          \"Germany\",\n          \"Japan\",\n          \"France\"\n        ],\n        \"semantic_type\": \"\",\n        \"description\": \"\"\n      }\n    },\n    {\n      \"column\": \"Year\",\n      \"properties\": {\n        \"dtype\": \"number\",\n        \"std\": 4,\n        \"min\": 2010,\n        \"max\": 2024,\n        \"num_unique_values\": 15,\n        \"samples\": [\n          2013,\n          2021,\n          2018\n        ],\n        \"semantic_type\": \"\",\n        \"description\": \"\"\n      }\n    },\n    {\n      \"column\": \"Sustainability_Rating\",\n      \"properties\": {\n        \"dtype\": \"category\",\n        \"num_unique_values\": 4,\n        \"samples\": [\n          \"A\",\n          \"C\",\n          \"D\"\n        ],\n        \"semantic_type\": \"\",\n        \"description\": \"\"\n      }\n    },\n    {\n      \"column\": \"Material_Type\",\n      \"properties\": {\n        \"dtype\": \"category\",\n        \"num_unique_values\": 6,\n        \"samples\": [\n          \"Tencel\",\n          \"Vegan Leather\",\n          \"Organic Cotton\"\n        ],\n        \"semantic_type\": \"\",\n        \"description\": \"\"\n      }\n    },\n    {\n      \"column\": \"Eco_Friendly_Manufacturing\",\n      \"properties\": {\n        \"dtype\": \"category\",\n        \"num_unique_values\": 2,\n        \"samples\": [\n          \"Yes\",\n          \"No\"\n        ],\n        \"semantic_type\": \"\",\n        \"description\": \"\"\n      }\n    },\n    {\n      \"column\": \"Carbon_Footprint_MT\",\n      \"properties\": {\n        \"dtype\": \"number\",\n        \"std\": 142.8023454473721,\n        \"min\": 1.04,\n        \"max\": 499.93,\n        \"num_unique_values\": 4747,\n        \"samples\": [\n          310.85,\n          425.22\n        ],\n        \"semantic_type\": \"\",\n        \"description\": \"\"\n      }\n    },\n    {\n      \"column\": \"Water_Usage_Liters\",\n      \"properties\": {\n        \"dtype\": \"number\",\n        \"std\": 1429043.0940048296,\n        \"min\": 50106.18,\n        \"max\": 4999596.61,\n        \"num_unique_values\": 5000,\n        \"samples\": [\n          3877946.89,\n          1794898.18\n        ],\n        \"semantic_type\": \"\",\n        \"description\": \"\"\n      }\n    },\n    {\n      \"column\": \"Waste_Production_KG\",\n      \"properties\": {\n        \"dtype\": \"number\",\n        \"std\": 28746.381115029915,\n        \"min\": 1026.38,\n        \"max\": 99947.85,\n        \"num_unique_values\": 4998,\n        \"samples\": [\n          2395.39,\n          76666.64\n        ],\n        \"semantic_type\": \"\",\n        \"description\": \"\"\n      }\n    },\n    {\n      \"column\": \"Recycling_Programs\",\n      \"properties\": {\n        \"dtype\": \"category\",\n        \"num_unique_values\": 2,\n        \"samples\": [\n          \"Yes\",\n          \"No\"\n        ],\n        \"semantic_type\": \"\",\n        \"description\": \"\"\n      }\n    },\n    {\n      \"column\": \"Product_Lines\",\n      \"properties\": {\n        \"dtype\": \"number\",\n        \"std\": 5,\n        \"min\": 1,\n        \"max\": 20,\n        \"num_unique_values\": 20,\n        \"samples\": [\n          2,\n          7\n        ],\n        \"semantic_type\": \"\",\n        \"description\": \"\"\n      }\n    },\n    {\n      \"column\": \"Average_Price_USD\",\n      \"properties\": {\n        \"dtype\": \"number\",\n        \"std\": 137.7309763793034,\n        \"min\": 20.02,\n        \"max\": 499.94,\n        \"num_unique_values\": 4748,\n        \"samples\": [\n          335.07,\n          323.9\n        ],\n        \"semantic_type\": \"\",\n        \"description\": \"\"\n      }\n    },\n    {\n      \"column\": \"Market_Trend\",\n      \"properties\": {\n        \"dtype\": \"category\",\n        \"num_unique_values\": 3,\n        \"samples\": [\n          \"Growing\",\n          \"Stable\"\n        ],\n        \"semantic_type\": \"\",\n        \"description\": \"\"\n      }\n    },\n    {\n      \"column\": \"Certifications\",\n      \"properties\": {\n        \"dtype\": \"category\",\n        \"num_unique_values\": 4,\n        \"samples\": [\n          \"B Corp\",\n          \"Fair Trade\"\n        ],\n        \"semantic_type\": \"\",\n        \"description\": \"\"\n      }\n    }\n  ]\n}"
            }
          },
          "metadata": {},
          "execution_count": 2
        }
      ],
      "source": [
        "df=pd.read_csv('/content/sustainable_fashion_trends_2024.csv')\n",
        "df.head()"
      ]
    },
    {
      "cell_type": "code",
      "execution_count": null,
      "metadata": {
        "colab": {
          "base_uri": "https://localhost:8080/",
          "height": 313
        },
        "id": "R7oUnP7Ab4S5",
        "outputId": "5f8cb134-6b2d-49a9-9188-2e53686d24b4"
      },
      "outputs": [
        {
          "output_type": "execute_result",
          "data": {
            "text/plain": [
              "        Brand_ID  Brand_Name  Country  Year Sustainability_Rating  \\\n",
              "4995  BRAND-4996  Brand_4996   Brazil  2010                     A   \n",
              "4996  BRAND-4997  Brand_4997  Germany  2012                     C   \n",
              "4997  BRAND-4998  Brand_4998    Japan  2023                     D   \n",
              "4998  BRAND-4999  Brand_4999    India  2016                     A   \n",
              "4999  BRAND-5000  Brand_5000    Italy  2016                     B   \n",
              "\n",
              "       Material_Type Eco_Friendly_Manufacturing  Carbon_Footprint_MT  \\\n",
              "4995  Organic Cotton                        Yes               423.73   \n",
              "4996   Bamboo Fabric                        Yes                68.24   \n",
              "4997   Vegan Leather                        Yes               321.12   \n",
              "4998          Tencel                         No               124.83   \n",
              "4999   Vegan Leather                         No               192.11   \n",
              "\n",
              "      Water_Usage_Liters  Waste_Production_KG Recycling_Programs  \\\n",
              "4995           251736.61             50532.28                 No   \n",
              "4996          2342347.78             64214.57                Yes   \n",
              "4997           317800.67             81467.21                Yes   \n",
              "4998           927539.68             34506.22                Yes   \n",
              "4999          3402552.70             81958.82                Yes   \n",
              "\n",
              "      Product_Lines  Average_Price_USD Market_Trend Certifications  \n",
              "4995              1             490.95       Stable            NaN  \n",
              "4996             13              53.92       Stable     Fair Trade  \n",
              "4997             12             431.32       Stable            NaN  \n",
              "4998             20             322.95    Declining     Fair Trade  \n",
              "4999             11             205.62      Growing            NaN  "
            ],
            "text/html": [
              "\n",
              "  <div id=\"df-12ff65d3-6bd4-4ff6-971e-13bf0faf4fd1\" class=\"colab-df-container\">\n",
              "    <div>\n",
              "<style scoped>\n",
              "    .dataframe tbody tr th:only-of-type {\n",
              "        vertical-align: middle;\n",
              "    }\n",
              "\n",
              "    .dataframe tbody tr th {\n",
              "        vertical-align: top;\n",
              "    }\n",
              "\n",
              "    .dataframe thead th {\n",
              "        text-align: right;\n",
              "    }\n",
              "</style>\n",
              "<table border=\"1\" class=\"dataframe\">\n",
              "  <thead>\n",
              "    <tr style=\"text-align: right;\">\n",
              "      <th></th>\n",
              "      <th>Brand_ID</th>\n",
              "      <th>Brand_Name</th>\n",
              "      <th>Country</th>\n",
              "      <th>Year</th>\n",
              "      <th>Sustainability_Rating</th>\n",
              "      <th>Material_Type</th>\n",
              "      <th>Eco_Friendly_Manufacturing</th>\n",
              "      <th>Carbon_Footprint_MT</th>\n",
              "      <th>Water_Usage_Liters</th>\n",
              "      <th>Waste_Production_KG</th>\n",
              "      <th>Recycling_Programs</th>\n",
              "      <th>Product_Lines</th>\n",
              "      <th>Average_Price_USD</th>\n",
              "      <th>Market_Trend</th>\n",
              "      <th>Certifications</th>\n",
              "    </tr>\n",
              "  </thead>\n",
              "  <tbody>\n",
              "    <tr>\n",
              "      <th>4995</th>\n",
              "      <td>BRAND-4996</td>\n",
              "      <td>Brand_4996</td>\n",
              "      <td>Brazil</td>\n",
              "      <td>2010</td>\n",
              "      <td>A</td>\n",
              "      <td>Organic Cotton</td>\n",
              "      <td>Yes</td>\n",
              "      <td>423.73</td>\n",
              "      <td>251736.61</td>\n",
              "      <td>50532.28</td>\n",
              "      <td>No</td>\n",
              "      <td>1</td>\n",
              "      <td>490.95</td>\n",
              "      <td>Stable</td>\n",
              "      <td>NaN</td>\n",
              "    </tr>\n",
              "    <tr>\n",
              "      <th>4996</th>\n",
              "      <td>BRAND-4997</td>\n",
              "      <td>Brand_4997</td>\n",
              "      <td>Germany</td>\n",
              "      <td>2012</td>\n",
              "      <td>C</td>\n",
              "      <td>Bamboo Fabric</td>\n",
              "      <td>Yes</td>\n",
              "      <td>68.24</td>\n",
              "      <td>2342347.78</td>\n",
              "      <td>64214.57</td>\n",
              "      <td>Yes</td>\n",
              "      <td>13</td>\n",
              "      <td>53.92</td>\n",
              "      <td>Stable</td>\n",
              "      <td>Fair Trade</td>\n",
              "    </tr>\n",
              "    <tr>\n",
              "      <th>4997</th>\n",
              "      <td>BRAND-4998</td>\n",
              "      <td>Brand_4998</td>\n",
              "      <td>Japan</td>\n",
              "      <td>2023</td>\n",
              "      <td>D</td>\n",
              "      <td>Vegan Leather</td>\n",
              "      <td>Yes</td>\n",
              "      <td>321.12</td>\n",
              "      <td>317800.67</td>\n",
              "      <td>81467.21</td>\n",
              "      <td>Yes</td>\n",
              "      <td>12</td>\n",
              "      <td>431.32</td>\n",
              "      <td>Stable</td>\n",
              "      <td>NaN</td>\n",
              "    </tr>\n",
              "    <tr>\n",
              "      <th>4998</th>\n",
              "      <td>BRAND-4999</td>\n",
              "      <td>Brand_4999</td>\n",
              "      <td>India</td>\n",
              "      <td>2016</td>\n",
              "      <td>A</td>\n",
              "      <td>Tencel</td>\n",
              "      <td>No</td>\n",
              "      <td>124.83</td>\n",
              "      <td>927539.68</td>\n",
              "      <td>34506.22</td>\n",
              "      <td>Yes</td>\n",
              "      <td>20</td>\n",
              "      <td>322.95</td>\n",
              "      <td>Declining</td>\n",
              "      <td>Fair Trade</td>\n",
              "    </tr>\n",
              "    <tr>\n",
              "      <th>4999</th>\n",
              "      <td>BRAND-5000</td>\n",
              "      <td>Brand_5000</td>\n",
              "      <td>Italy</td>\n",
              "      <td>2016</td>\n",
              "      <td>B</td>\n",
              "      <td>Vegan Leather</td>\n",
              "      <td>No</td>\n",
              "      <td>192.11</td>\n",
              "      <td>3402552.70</td>\n",
              "      <td>81958.82</td>\n",
              "      <td>Yes</td>\n",
              "      <td>11</td>\n",
              "      <td>205.62</td>\n",
              "      <td>Growing</td>\n",
              "      <td>NaN</td>\n",
              "    </tr>\n",
              "  </tbody>\n",
              "</table>\n",
              "</div>\n",
              "    <div class=\"colab-df-buttons\">\n",
              "\n",
              "  <div class=\"colab-df-container\">\n",
              "    <button class=\"colab-df-convert\" onclick=\"convertToInteractive('df-12ff65d3-6bd4-4ff6-971e-13bf0faf4fd1')\"\n",
              "            title=\"Convert this dataframe to an interactive table.\"\n",
              "            style=\"display:none;\">\n",
              "\n",
              "  <svg xmlns=\"http://www.w3.org/2000/svg\" height=\"24px\" viewBox=\"0 -960 960 960\">\n",
              "    <path d=\"M120-120v-720h720v720H120Zm60-500h600v-160H180v160Zm220 220h160v-160H400v160Zm0 220h160v-160H400v160ZM180-400h160v-160H180v160Zm440 0h160v-160H620v160ZM180-180h160v-160H180v160Zm440 0h160v-160H620v160Z\"/>\n",
              "  </svg>\n",
              "    </button>\n",
              "\n",
              "  <style>\n",
              "    .colab-df-container {\n",
              "      display:flex;\n",
              "      gap: 12px;\n",
              "    }\n",
              "\n",
              "    .colab-df-convert {\n",
              "      background-color: #E8F0FE;\n",
              "      border: none;\n",
              "      border-radius: 50%;\n",
              "      cursor: pointer;\n",
              "      display: none;\n",
              "      fill: #1967D2;\n",
              "      height: 32px;\n",
              "      padding: 0 0 0 0;\n",
              "      width: 32px;\n",
              "    }\n",
              "\n",
              "    .colab-df-convert:hover {\n",
              "      background-color: #E2EBFA;\n",
              "      box-shadow: 0px 1px 2px rgba(60, 64, 67, 0.3), 0px 1px 3px 1px rgba(60, 64, 67, 0.15);\n",
              "      fill: #174EA6;\n",
              "    }\n",
              "\n",
              "    .colab-df-buttons div {\n",
              "      margin-bottom: 4px;\n",
              "    }\n",
              "\n",
              "    [theme=dark] .colab-df-convert {\n",
              "      background-color: #3B4455;\n",
              "      fill: #D2E3FC;\n",
              "    }\n",
              "\n",
              "    [theme=dark] .colab-df-convert:hover {\n",
              "      background-color: #434B5C;\n",
              "      box-shadow: 0px 1px 3px 1px rgba(0, 0, 0, 0.15);\n",
              "      filter: drop-shadow(0px 1px 2px rgba(0, 0, 0, 0.3));\n",
              "      fill: #FFFFFF;\n",
              "    }\n",
              "  </style>\n",
              "\n",
              "    <script>\n",
              "      const buttonEl =\n",
              "        document.querySelector('#df-12ff65d3-6bd4-4ff6-971e-13bf0faf4fd1 button.colab-df-convert');\n",
              "      buttonEl.style.display =\n",
              "        google.colab.kernel.accessAllowed ? 'block' : 'none';\n",
              "\n",
              "      async function convertToInteractive(key) {\n",
              "        const element = document.querySelector('#df-12ff65d3-6bd4-4ff6-971e-13bf0faf4fd1');\n",
              "        const dataTable =\n",
              "          await google.colab.kernel.invokeFunction('convertToInteractive',\n",
              "                                                    [key], {});\n",
              "        if (!dataTable) return;\n",
              "\n",
              "        const docLinkHtml = 'Like what you see? Visit the ' +\n",
              "          '<a target=\"_blank\" href=https://colab.research.google.com/notebooks/data_table.ipynb>data table notebook</a>'\n",
              "          + ' to learn more about interactive tables.';\n",
              "        element.innerHTML = '';\n",
              "        dataTable['output_type'] = 'display_data';\n",
              "        await google.colab.output.renderOutput(dataTable, element);\n",
              "        const docLink = document.createElement('div');\n",
              "        docLink.innerHTML = docLinkHtml;\n",
              "        element.appendChild(docLink);\n",
              "      }\n",
              "    </script>\n",
              "  </div>\n",
              "\n",
              "\n",
              "<div id=\"df-0a79e60c-0b48-40fa-b5a2-656a013d43bc\">\n",
              "  <button class=\"colab-df-quickchart\" onclick=\"quickchart('df-0a79e60c-0b48-40fa-b5a2-656a013d43bc')\"\n",
              "            title=\"Suggest charts\"\n",
              "            style=\"display:none;\">\n",
              "\n",
              "<svg xmlns=\"http://www.w3.org/2000/svg\" height=\"24px\"viewBox=\"0 0 24 24\"\n",
              "     width=\"24px\">\n",
              "    <g>\n",
              "        <path d=\"M19 3H5c-1.1 0-2 .9-2 2v14c0 1.1.9 2 2 2h14c1.1 0 2-.9 2-2V5c0-1.1-.9-2-2-2zM9 17H7v-7h2v7zm4 0h-2V7h2v10zm4 0h-2v-4h2v4z\"/>\n",
              "    </g>\n",
              "</svg>\n",
              "  </button>\n",
              "\n",
              "<style>\n",
              "  .colab-df-quickchart {\n",
              "      --bg-color: #E8F0FE;\n",
              "      --fill-color: #1967D2;\n",
              "      --hover-bg-color: #E2EBFA;\n",
              "      --hover-fill-color: #174EA6;\n",
              "      --disabled-fill-color: #AAA;\n",
              "      --disabled-bg-color: #DDD;\n",
              "  }\n",
              "\n",
              "  [theme=dark] .colab-df-quickchart {\n",
              "      --bg-color: #3B4455;\n",
              "      --fill-color: #D2E3FC;\n",
              "      --hover-bg-color: #434B5C;\n",
              "      --hover-fill-color: #FFFFFF;\n",
              "      --disabled-bg-color: #3B4455;\n",
              "      --disabled-fill-color: #666;\n",
              "  }\n",
              "\n",
              "  .colab-df-quickchart {\n",
              "    background-color: var(--bg-color);\n",
              "    border: none;\n",
              "    border-radius: 50%;\n",
              "    cursor: pointer;\n",
              "    display: none;\n",
              "    fill: var(--fill-color);\n",
              "    height: 32px;\n",
              "    padding: 0;\n",
              "    width: 32px;\n",
              "  }\n",
              "\n",
              "  .colab-df-quickchart:hover {\n",
              "    background-color: var(--hover-bg-color);\n",
              "    box-shadow: 0 1px 2px rgba(60, 64, 67, 0.3), 0 1px 3px 1px rgba(60, 64, 67, 0.15);\n",
              "    fill: var(--button-hover-fill-color);\n",
              "  }\n",
              "\n",
              "  .colab-df-quickchart-complete:disabled,\n",
              "  .colab-df-quickchart-complete:disabled:hover {\n",
              "    background-color: var(--disabled-bg-color);\n",
              "    fill: var(--disabled-fill-color);\n",
              "    box-shadow: none;\n",
              "  }\n",
              "\n",
              "  .colab-df-spinner {\n",
              "    border: 2px solid var(--fill-color);\n",
              "    border-color: transparent;\n",
              "    border-bottom-color: var(--fill-color);\n",
              "    animation:\n",
              "      spin 1s steps(1) infinite;\n",
              "  }\n",
              "\n",
              "  @keyframes spin {\n",
              "    0% {\n",
              "      border-color: transparent;\n",
              "      border-bottom-color: var(--fill-color);\n",
              "      border-left-color: var(--fill-color);\n",
              "    }\n",
              "    20% {\n",
              "      border-color: transparent;\n",
              "      border-left-color: var(--fill-color);\n",
              "      border-top-color: var(--fill-color);\n",
              "    }\n",
              "    30% {\n",
              "      border-color: transparent;\n",
              "      border-left-color: var(--fill-color);\n",
              "      border-top-color: var(--fill-color);\n",
              "      border-right-color: var(--fill-color);\n",
              "    }\n",
              "    40% {\n",
              "      border-color: transparent;\n",
              "      border-right-color: var(--fill-color);\n",
              "      border-top-color: var(--fill-color);\n",
              "    }\n",
              "    60% {\n",
              "      border-color: transparent;\n",
              "      border-right-color: var(--fill-color);\n",
              "    }\n",
              "    80% {\n",
              "      border-color: transparent;\n",
              "      border-right-color: var(--fill-color);\n",
              "      border-bottom-color: var(--fill-color);\n",
              "    }\n",
              "    90% {\n",
              "      border-color: transparent;\n",
              "      border-bottom-color: var(--fill-color);\n",
              "    }\n",
              "  }\n",
              "</style>\n",
              "\n",
              "  <script>\n",
              "    async function quickchart(key) {\n",
              "      const quickchartButtonEl =\n",
              "        document.querySelector('#' + key + ' button');\n",
              "      quickchartButtonEl.disabled = true;  // To prevent multiple clicks.\n",
              "      quickchartButtonEl.classList.add('colab-df-spinner');\n",
              "      try {\n",
              "        const charts = await google.colab.kernel.invokeFunction(\n",
              "            'suggestCharts', [key], {});\n",
              "      } catch (error) {\n",
              "        console.error('Error during call to suggestCharts:', error);\n",
              "      }\n",
              "      quickchartButtonEl.classList.remove('colab-df-spinner');\n",
              "      quickchartButtonEl.classList.add('colab-df-quickchart-complete');\n",
              "    }\n",
              "    (() => {\n",
              "      let quickchartButtonEl =\n",
              "        document.querySelector('#df-0a79e60c-0b48-40fa-b5a2-656a013d43bc button');\n",
              "      quickchartButtonEl.style.display =\n",
              "        google.colab.kernel.accessAllowed ? 'block' : 'none';\n",
              "    })();\n",
              "  </script>\n",
              "</div>\n",
              "\n",
              "    </div>\n",
              "  </div>\n"
            ],
            "application/vnd.google.colaboratory.intrinsic+json": {
              "type": "dataframe",
              "summary": "{\n  \"name\": \"df\",\n  \"rows\": 5,\n  \"fields\": [\n    {\n      \"column\": \"Brand_ID\",\n      \"properties\": {\n        \"dtype\": \"string\",\n        \"num_unique_values\": 5,\n        \"samples\": [\n          \"BRAND-4997\",\n          \"BRAND-5000\",\n          \"BRAND-4998\"\n        ],\n        \"semantic_type\": \"\",\n        \"description\": \"\"\n      }\n    },\n    {\n      \"column\": \"Brand_Name\",\n      \"properties\": {\n        \"dtype\": \"string\",\n        \"num_unique_values\": 5,\n        \"samples\": [\n          \"Brand_4997\",\n          \"Brand_5000\",\n          \"Brand_4998\"\n        ],\n        \"semantic_type\": \"\",\n        \"description\": \"\"\n      }\n    },\n    {\n      \"column\": \"Country\",\n      \"properties\": {\n        \"dtype\": \"string\",\n        \"num_unique_values\": 5,\n        \"samples\": [\n          \"Germany\",\n          \"Italy\",\n          \"Japan\"\n        ],\n        \"semantic_type\": \"\",\n        \"description\": \"\"\n      }\n    },\n    {\n      \"column\": \"Year\",\n      \"properties\": {\n        \"dtype\": \"number\",\n        \"std\": 4,\n        \"min\": 2010,\n        \"max\": 2023,\n        \"num_unique_values\": 4,\n        \"samples\": [\n          2012,\n          2016,\n          2010\n        ],\n        \"semantic_type\": \"\",\n        \"description\": \"\"\n      }\n    },\n    {\n      \"column\": \"Sustainability_Rating\",\n      \"properties\": {\n        \"dtype\": \"string\",\n        \"num_unique_values\": 4,\n        \"samples\": [\n          \"C\",\n          \"B\",\n          \"A\"\n        ],\n        \"semantic_type\": \"\",\n        \"description\": \"\"\n      }\n    },\n    {\n      \"column\": \"Material_Type\",\n      \"properties\": {\n        \"dtype\": \"string\",\n        \"num_unique_values\": 4,\n        \"samples\": [\n          \"Bamboo Fabric\",\n          \"Tencel\",\n          \"Organic Cotton\"\n        ],\n        \"semantic_type\": \"\",\n        \"description\": \"\"\n      }\n    },\n    {\n      \"column\": \"Eco_Friendly_Manufacturing\",\n      \"properties\": {\n        \"dtype\": \"category\",\n        \"num_unique_values\": 2,\n        \"samples\": [\n          \"No\",\n          \"Yes\"\n        ],\n        \"semantic_type\": \"\",\n        \"description\": \"\"\n      }\n    },\n    {\n      \"column\": \"Carbon_Footprint_MT\",\n      \"properties\": {\n        \"dtype\": \"number\",\n        \"std\": 145.27309258771908,\n        \"min\": 68.24,\n        \"max\": 423.73,\n        \"num_unique_values\": 5,\n        \"samples\": [\n          68.24,\n          192.11\n        ],\n        \"semantic_type\": \"\",\n        \"description\": \"\"\n      }\n    },\n    {\n      \"column\": \"Water_Usage_Liters\",\n      \"properties\": {\n        \"dtype\": \"number\",\n        \"std\": 1378351.2791643203,\n        \"min\": 251736.61,\n        \"max\": 3402552.7,\n        \"num_unique_values\": 5,\n        \"samples\": [\n          2342347.78,\n          3402552.7\n        ],\n        \"semantic_type\": \"\",\n        \"description\": \"\"\n      }\n    },\n    {\n      \"column\": \"Waste_Production_KG\",\n      \"properties\": {\n        \"dtype\": \"number\",\n        \"std\": 20421.87617841588,\n        \"min\": 34506.22,\n        \"max\": 81958.82,\n        \"num_unique_values\": 5,\n        \"samples\": [\n          64214.57,\n          81958.82\n        ],\n        \"semantic_type\": \"\",\n        \"description\": \"\"\n      }\n    },\n    {\n      \"column\": \"Recycling_Programs\",\n      \"properties\": {\n        \"dtype\": \"category\",\n        \"num_unique_values\": 2,\n        \"samples\": [\n          \"Yes\",\n          \"No\"\n        ],\n        \"semantic_type\": \"\",\n        \"description\": \"\"\n      }\n    },\n    {\n      \"column\": \"Product_Lines\",\n      \"properties\": {\n        \"dtype\": \"number\",\n        \"std\": 6,\n        \"min\": 1,\n        \"max\": 20,\n        \"num_unique_values\": 5,\n        \"samples\": [\n          13,\n          11\n        ],\n        \"semantic_type\": \"\",\n        \"description\": \"\"\n      }\n    },\n    {\n      \"column\": \"Average_Price_USD\",\n      \"properties\": {\n        \"dtype\": \"number\",\n        \"std\": 175.84934367236062,\n        \"min\": 53.92,\n        \"max\": 490.95,\n        \"num_unique_values\": 5,\n        \"samples\": [\n          53.92,\n          205.62\n        ],\n        \"semantic_type\": \"\",\n        \"description\": \"\"\n      }\n    },\n    {\n      \"column\": \"Market_Trend\",\n      \"properties\": {\n        \"dtype\": \"string\",\n        \"num_unique_values\": 3,\n        \"samples\": [\n          \"Stable\",\n          \"Declining\"\n        ],\n        \"semantic_type\": \"\",\n        \"description\": \"\"\n      }\n    },\n    {\n      \"column\": \"Certifications\",\n      \"properties\": {\n        \"dtype\": \"category\",\n        \"num_unique_values\": 1,\n        \"samples\": [\n          \"Fair Trade\"\n        ],\n        \"semantic_type\": \"\",\n        \"description\": \"\"\n      }\n    }\n  ]\n}"
            }
          },
          "metadata": {},
          "execution_count": 3
        }
      ],
      "source": [
        "df.tail()"
      ]
    },
    {
      "cell_type": "code",
      "execution_count": null,
      "metadata": {
        "colab": {
          "base_uri": "https://localhost:8080/"
        },
        "id": "SJukKn1tcYNi",
        "outputId": "c33c692d-9097-4835-d546-bd7dde63229c"
      },
      "outputs": [
        {
          "output_type": "execute_result",
          "data": {
            "text/plain": [
              "(5000, 15)"
            ]
          },
          "metadata": {},
          "execution_count": 4
        }
      ],
      "source": [
        "df.shape"
      ]
    },
    {
      "cell_type": "code",
      "execution_count": null,
      "metadata": {
        "colab": {
          "base_uri": "https://localhost:8080/",
          "height": 554
        },
        "id": "VQDealeYcnJB",
        "outputId": "90457a90-3cc5-4d6e-e9cb-40b8c236b6ec"
      },
      "outputs": [
        {
          "output_type": "execute_result",
          "data": {
            "text/plain": [
              "Brand_ID                       object\n",
              "Brand_Name                     object\n",
              "Country                        object\n",
              "Year                            int64\n",
              "Sustainability_Rating          object\n",
              "Material_Type                  object\n",
              "Eco_Friendly_Manufacturing     object\n",
              "Carbon_Footprint_MT           float64\n",
              "Water_Usage_Liters            float64\n",
              "Waste_Production_KG           float64\n",
              "Recycling_Programs             object\n",
              "Product_Lines                   int64\n",
              "Average_Price_USD             float64\n",
              "Market_Trend                   object\n",
              "Certifications                 object\n",
              "dtype: object"
            ],
            "text/html": [
              "<div>\n",
              "<style scoped>\n",
              "    .dataframe tbody tr th:only-of-type {\n",
              "        vertical-align: middle;\n",
              "    }\n",
              "\n",
              "    .dataframe tbody tr th {\n",
              "        vertical-align: top;\n",
              "    }\n",
              "\n",
              "    .dataframe thead th {\n",
              "        text-align: right;\n",
              "    }\n",
              "</style>\n",
              "<table border=\"1\" class=\"dataframe\">\n",
              "  <thead>\n",
              "    <tr style=\"text-align: right;\">\n",
              "      <th></th>\n",
              "      <th>0</th>\n",
              "    </tr>\n",
              "  </thead>\n",
              "  <tbody>\n",
              "    <tr>\n",
              "      <th>Brand_ID</th>\n",
              "      <td>object</td>\n",
              "    </tr>\n",
              "    <tr>\n",
              "      <th>Brand_Name</th>\n",
              "      <td>object</td>\n",
              "    </tr>\n",
              "    <tr>\n",
              "      <th>Country</th>\n",
              "      <td>object</td>\n",
              "    </tr>\n",
              "    <tr>\n",
              "      <th>Year</th>\n",
              "      <td>int64</td>\n",
              "    </tr>\n",
              "    <tr>\n",
              "      <th>Sustainability_Rating</th>\n",
              "      <td>object</td>\n",
              "    </tr>\n",
              "    <tr>\n",
              "      <th>Material_Type</th>\n",
              "      <td>object</td>\n",
              "    </tr>\n",
              "    <tr>\n",
              "      <th>Eco_Friendly_Manufacturing</th>\n",
              "      <td>object</td>\n",
              "    </tr>\n",
              "    <tr>\n",
              "      <th>Carbon_Footprint_MT</th>\n",
              "      <td>float64</td>\n",
              "    </tr>\n",
              "    <tr>\n",
              "      <th>Water_Usage_Liters</th>\n",
              "      <td>float64</td>\n",
              "    </tr>\n",
              "    <tr>\n",
              "      <th>Waste_Production_KG</th>\n",
              "      <td>float64</td>\n",
              "    </tr>\n",
              "    <tr>\n",
              "      <th>Recycling_Programs</th>\n",
              "      <td>object</td>\n",
              "    </tr>\n",
              "    <tr>\n",
              "      <th>Product_Lines</th>\n",
              "      <td>int64</td>\n",
              "    </tr>\n",
              "    <tr>\n",
              "      <th>Average_Price_USD</th>\n",
              "      <td>float64</td>\n",
              "    </tr>\n",
              "    <tr>\n",
              "      <th>Market_Trend</th>\n",
              "      <td>object</td>\n",
              "    </tr>\n",
              "    <tr>\n",
              "      <th>Certifications</th>\n",
              "      <td>object</td>\n",
              "    </tr>\n",
              "  </tbody>\n",
              "</table>\n",
              "</div><br><label><b>dtype:</b> object</label>"
            ]
          },
          "metadata": {},
          "execution_count": 5
        }
      ],
      "source": [
        "df.dtypes"
      ]
    },
    {
      "cell_type": "code",
      "execution_count": null,
      "metadata": {
        "colab": {
          "base_uri": "https://localhost:8080/"
        },
        "id": "wikLZqSXdqv2",
        "outputId": "c4273de0-204c-4de4-dd2c-e76c604b4746"
      },
      "outputs": [
        {
          "output_type": "execute_result",
          "data": {
            "text/plain": [
              "0"
            ]
          },
          "metadata": {},
          "execution_count": 6
        }
      ],
      "source": [
        "df.duplicated().sum()"
      ]
    },
    {
      "cell_type": "code",
      "execution_count": null,
      "metadata": {
        "colab": {
          "base_uri": "https://localhost:8080/",
          "height": 300
        },
        "id": "depulpnje1ut",
        "outputId": "b6b7d0ab-3c44-4ca2-e175-119203b90d77"
      },
      "outputs": [
        {
          "output_type": "execute_result",
          "data": {
            "text/plain": [
              "              Year  Carbon_Footprint_MT  Water_Usage_Liters  \\\n",
              "count  5000.000000          5000.000000        5.000000e+03   \n",
              "mean   2016.956200           250.317550        2.517862e+06   \n",
              "std       4.347466           142.802345        1.429043e+06   \n",
              "min    2010.000000             1.040000        5.010618e+04   \n",
              "25%    2013.000000           126.615000        1.293087e+06   \n",
              "50%    2017.000000           250.650000        2.499096e+06   \n",
              "75%    2021.000000           372.255000        3.763860e+06   \n",
              "max    2024.000000           499.930000        4.999597e+06   \n",
              "\n",
              "       Waste_Production_KG  Product_Lines  Average_Price_USD  \n",
              "count          5000.000000    5000.000000        5000.000000  \n",
              "mean          50107.304048      10.431200         259.354216  \n",
              "std           28746.381115       5.706573         137.730976  \n",
              "min            1026.380000       1.000000          20.020000  \n",
              "25%           25340.802500       5.000000         142.865000  \n",
              "50%           50466.340000      10.000000         258.615000  \n",
              "75%           74984.650000      15.000000         378.595000  \n",
              "max           99947.850000      20.000000         499.940000  "
            ],
            "text/html": [
              "\n",
              "  <div id=\"df-19b01608-8853-4e0d-9f4b-ec0c67eceb47\" class=\"colab-df-container\">\n",
              "    <div>\n",
              "<style scoped>\n",
              "    .dataframe tbody tr th:only-of-type {\n",
              "        vertical-align: middle;\n",
              "    }\n",
              "\n",
              "    .dataframe tbody tr th {\n",
              "        vertical-align: top;\n",
              "    }\n",
              "\n",
              "    .dataframe thead th {\n",
              "        text-align: right;\n",
              "    }\n",
              "</style>\n",
              "<table border=\"1\" class=\"dataframe\">\n",
              "  <thead>\n",
              "    <tr style=\"text-align: right;\">\n",
              "      <th></th>\n",
              "      <th>Year</th>\n",
              "      <th>Carbon_Footprint_MT</th>\n",
              "      <th>Water_Usage_Liters</th>\n",
              "      <th>Waste_Production_KG</th>\n",
              "      <th>Product_Lines</th>\n",
              "      <th>Average_Price_USD</th>\n",
              "    </tr>\n",
              "  </thead>\n",
              "  <tbody>\n",
              "    <tr>\n",
              "      <th>count</th>\n",
              "      <td>5000.000000</td>\n",
              "      <td>5000.000000</td>\n",
              "      <td>5.000000e+03</td>\n",
              "      <td>5000.000000</td>\n",
              "      <td>5000.000000</td>\n",
              "      <td>5000.000000</td>\n",
              "    </tr>\n",
              "    <tr>\n",
              "      <th>mean</th>\n",
              "      <td>2016.956200</td>\n",
              "      <td>250.317550</td>\n",
              "      <td>2.517862e+06</td>\n",
              "      <td>50107.304048</td>\n",
              "      <td>10.431200</td>\n",
              "      <td>259.354216</td>\n",
              "    </tr>\n",
              "    <tr>\n",
              "      <th>std</th>\n",
              "      <td>4.347466</td>\n",
              "      <td>142.802345</td>\n",
              "      <td>1.429043e+06</td>\n",
              "      <td>28746.381115</td>\n",
              "      <td>5.706573</td>\n",
              "      <td>137.730976</td>\n",
              "    </tr>\n",
              "    <tr>\n",
              "      <th>min</th>\n",
              "      <td>2010.000000</td>\n",
              "      <td>1.040000</td>\n",
              "      <td>5.010618e+04</td>\n",
              "      <td>1026.380000</td>\n",
              "      <td>1.000000</td>\n",
              "      <td>20.020000</td>\n",
              "    </tr>\n",
              "    <tr>\n",
              "      <th>25%</th>\n",
              "      <td>2013.000000</td>\n",
              "      <td>126.615000</td>\n",
              "      <td>1.293087e+06</td>\n",
              "      <td>25340.802500</td>\n",
              "      <td>5.000000</td>\n",
              "      <td>142.865000</td>\n",
              "    </tr>\n",
              "    <tr>\n",
              "      <th>50%</th>\n",
              "      <td>2017.000000</td>\n",
              "      <td>250.650000</td>\n",
              "      <td>2.499096e+06</td>\n",
              "      <td>50466.340000</td>\n",
              "      <td>10.000000</td>\n",
              "      <td>258.615000</td>\n",
              "    </tr>\n",
              "    <tr>\n",
              "      <th>75%</th>\n",
              "      <td>2021.000000</td>\n",
              "      <td>372.255000</td>\n",
              "      <td>3.763860e+06</td>\n",
              "      <td>74984.650000</td>\n",
              "      <td>15.000000</td>\n",
              "      <td>378.595000</td>\n",
              "    </tr>\n",
              "    <tr>\n",
              "      <th>max</th>\n",
              "      <td>2024.000000</td>\n",
              "      <td>499.930000</td>\n",
              "      <td>4.999597e+06</td>\n",
              "      <td>99947.850000</td>\n",
              "      <td>20.000000</td>\n",
              "      <td>499.940000</td>\n",
              "    </tr>\n",
              "  </tbody>\n",
              "</table>\n",
              "</div>\n",
              "    <div class=\"colab-df-buttons\">\n",
              "\n",
              "  <div class=\"colab-df-container\">\n",
              "    <button class=\"colab-df-convert\" onclick=\"convertToInteractive('df-19b01608-8853-4e0d-9f4b-ec0c67eceb47')\"\n",
              "            title=\"Convert this dataframe to an interactive table.\"\n",
              "            style=\"display:none;\">\n",
              "\n",
              "  <svg xmlns=\"http://www.w3.org/2000/svg\" height=\"24px\" viewBox=\"0 -960 960 960\">\n",
              "    <path d=\"M120-120v-720h720v720H120Zm60-500h600v-160H180v160Zm220 220h160v-160H400v160Zm0 220h160v-160H400v160ZM180-400h160v-160H180v160Zm440 0h160v-160H620v160ZM180-180h160v-160H180v160Zm440 0h160v-160H620v160Z\"/>\n",
              "  </svg>\n",
              "    </button>\n",
              "\n",
              "  <style>\n",
              "    .colab-df-container {\n",
              "      display:flex;\n",
              "      gap: 12px;\n",
              "    }\n",
              "\n",
              "    .colab-df-convert {\n",
              "      background-color: #E8F0FE;\n",
              "      border: none;\n",
              "      border-radius: 50%;\n",
              "      cursor: pointer;\n",
              "      display: none;\n",
              "      fill: #1967D2;\n",
              "      height: 32px;\n",
              "      padding: 0 0 0 0;\n",
              "      width: 32px;\n",
              "    }\n",
              "\n",
              "    .colab-df-convert:hover {\n",
              "      background-color: #E2EBFA;\n",
              "      box-shadow: 0px 1px 2px rgba(60, 64, 67, 0.3), 0px 1px 3px 1px rgba(60, 64, 67, 0.15);\n",
              "      fill: #174EA6;\n",
              "    }\n",
              "\n",
              "    .colab-df-buttons div {\n",
              "      margin-bottom: 4px;\n",
              "    }\n",
              "\n",
              "    [theme=dark] .colab-df-convert {\n",
              "      background-color: #3B4455;\n",
              "      fill: #D2E3FC;\n",
              "    }\n",
              "\n",
              "    [theme=dark] .colab-df-convert:hover {\n",
              "      background-color: #434B5C;\n",
              "      box-shadow: 0px 1px 3px 1px rgba(0, 0, 0, 0.15);\n",
              "      filter: drop-shadow(0px 1px 2px rgba(0, 0, 0, 0.3));\n",
              "      fill: #FFFFFF;\n",
              "    }\n",
              "  </style>\n",
              "\n",
              "    <script>\n",
              "      const buttonEl =\n",
              "        document.querySelector('#df-19b01608-8853-4e0d-9f4b-ec0c67eceb47 button.colab-df-convert');\n",
              "      buttonEl.style.display =\n",
              "        google.colab.kernel.accessAllowed ? 'block' : 'none';\n",
              "\n",
              "      async function convertToInteractive(key) {\n",
              "        const element = document.querySelector('#df-19b01608-8853-4e0d-9f4b-ec0c67eceb47');\n",
              "        const dataTable =\n",
              "          await google.colab.kernel.invokeFunction('convertToInteractive',\n",
              "                                                    [key], {});\n",
              "        if (!dataTable) return;\n",
              "\n",
              "        const docLinkHtml = 'Like what you see? Visit the ' +\n",
              "          '<a target=\"_blank\" href=https://colab.research.google.com/notebooks/data_table.ipynb>data table notebook</a>'\n",
              "          + ' to learn more about interactive tables.';\n",
              "        element.innerHTML = '';\n",
              "        dataTable['output_type'] = 'display_data';\n",
              "        await google.colab.output.renderOutput(dataTable, element);\n",
              "        const docLink = document.createElement('div');\n",
              "        docLink.innerHTML = docLinkHtml;\n",
              "        element.appendChild(docLink);\n",
              "      }\n",
              "    </script>\n",
              "  </div>\n",
              "\n",
              "\n",
              "<div id=\"df-fa7d0c38-f851-4465-a964-14fd04c0f4be\">\n",
              "  <button class=\"colab-df-quickchart\" onclick=\"quickchart('df-fa7d0c38-f851-4465-a964-14fd04c0f4be')\"\n",
              "            title=\"Suggest charts\"\n",
              "            style=\"display:none;\">\n",
              "\n",
              "<svg xmlns=\"http://www.w3.org/2000/svg\" height=\"24px\"viewBox=\"0 0 24 24\"\n",
              "     width=\"24px\">\n",
              "    <g>\n",
              "        <path d=\"M19 3H5c-1.1 0-2 .9-2 2v14c0 1.1.9 2 2 2h14c1.1 0 2-.9 2-2V5c0-1.1-.9-2-2-2zM9 17H7v-7h2v7zm4 0h-2V7h2v10zm4 0h-2v-4h2v4z\"/>\n",
              "    </g>\n",
              "</svg>\n",
              "  </button>\n",
              "\n",
              "<style>\n",
              "  .colab-df-quickchart {\n",
              "      --bg-color: #E8F0FE;\n",
              "      --fill-color: #1967D2;\n",
              "      --hover-bg-color: #E2EBFA;\n",
              "      --hover-fill-color: #174EA6;\n",
              "      --disabled-fill-color: #AAA;\n",
              "      --disabled-bg-color: #DDD;\n",
              "  }\n",
              "\n",
              "  [theme=dark] .colab-df-quickchart {\n",
              "      --bg-color: #3B4455;\n",
              "      --fill-color: #D2E3FC;\n",
              "      --hover-bg-color: #434B5C;\n",
              "      --hover-fill-color: #FFFFFF;\n",
              "      --disabled-bg-color: #3B4455;\n",
              "      --disabled-fill-color: #666;\n",
              "  }\n",
              "\n",
              "  .colab-df-quickchart {\n",
              "    background-color: var(--bg-color);\n",
              "    border: none;\n",
              "    border-radius: 50%;\n",
              "    cursor: pointer;\n",
              "    display: none;\n",
              "    fill: var(--fill-color);\n",
              "    height: 32px;\n",
              "    padding: 0;\n",
              "    width: 32px;\n",
              "  }\n",
              "\n",
              "  .colab-df-quickchart:hover {\n",
              "    background-color: var(--hover-bg-color);\n",
              "    box-shadow: 0 1px 2px rgba(60, 64, 67, 0.3), 0 1px 3px 1px rgba(60, 64, 67, 0.15);\n",
              "    fill: var(--button-hover-fill-color);\n",
              "  }\n",
              "\n",
              "  .colab-df-quickchart-complete:disabled,\n",
              "  .colab-df-quickchart-complete:disabled:hover {\n",
              "    background-color: var(--disabled-bg-color);\n",
              "    fill: var(--disabled-fill-color);\n",
              "    box-shadow: none;\n",
              "  }\n",
              "\n",
              "  .colab-df-spinner {\n",
              "    border: 2px solid var(--fill-color);\n",
              "    border-color: transparent;\n",
              "    border-bottom-color: var(--fill-color);\n",
              "    animation:\n",
              "      spin 1s steps(1) infinite;\n",
              "  }\n",
              "\n",
              "  @keyframes spin {\n",
              "    0% {\n",
              "      border-color: transparent;\n",
              "      border-bottom-color: var(--fill-color);\n",
              "      border-left-color: var(--fill-color);\n",
              "    }\n",
              "    20% {\n",
              "      border-color: transparent;\n",
              "      border-left-color: var(--fill-color);\n",
              "      border-top-color: var(--fill-color);\n",
              "    }\n",
              "    30% {\n",
              "      border-color: transparent;\n",
              "      border-left-color: var(--fill-color);\n",
              "      border-top-color: var(--fill-color);\n",
              "      border-right-color: var(--fill-color);\n",
              "    }\n",
              "    40% {\n",
              "      border-color: transparent;\n",
              "      border-right-color: var(--fill-color);\n",
              "      border-top-color: var(--fill-color);\n",
              "    }\n",
              "    60% {\n",
              "      border-color: transparent;\n",
              "      border-right-color: var(--fill-color);\n",
              "    }\n",
              "    80% {\n",
              "      border-color: transparent;\n",
              "      border-right-color: var(--fill-color);\n",
              "      border-bottom-color: var(--fill-color);\n",
              "    }\n",
              "    90% {\n",
              "      border-color: transparent;\n",
              "      border-bottom-color: var(--fill-color);\n",
              "    }\n",
              "  }\n",
              "</style>\n",
              "\n",
              "  <script>\n",
              "    async function quickchart(key) {\n",
              "      const quickchartButtonEl =\n",
              "        document.querySelector('#' + key + ' button');\n",
              "      quickchartButtonEl.disabled = true;  // To prevent multiple clicks.\n",
              "      quickchartButtonEl.classList.add('colab-df-spinner');\n",
              "      try {\n",
              "        const charts = await google.colab.kernel.invokeFunction(\n",
              "            'suggestCharts', [key], {});\n",
              "      } catch (error) {\n",
              "        console.error('Error during call to suggestCharts:', error);\n",
              "      }\n",
              "      quickchartButtonEl.classList.remove('colab-df-spinner');\n",
              "      quickchartButtonEl.classList.add('colab-df-quickchart-complete');\n",
              "    }\n",
              "    (() => {\n",
              "      let quickchartButtonEl =\n",
              "        document.querySelector('#df-fa7d0c38-f851-4465-a964-14fd04c0f4be button');\n",
              "      quickchartButtonEl.style.display =\n",
              "        google.colab.kernel.accessAllowed ? 'block' : 'none';\n",
              "    })();\n",
              "  </script>\n",
              "</div>\n",
              "\n",
              "    </div>\n",
              "  </div>\n"
            ],
            "application/vnd.google.colaboratory.intrinsic+json": {
              "type": "dataframe",
              "summary": "{\n  \"name\": \"df\",\n  \"rows\": 8,\n  \"fields\": [\n    {\n      \"column\": \"Year\",\n      \"properties\": {\n        \"dtype\": \"number\",\n        \"std\": 1353.9098447247027,\n        \"min\": 4.347466118594927,\n        \"max\": 5000.0,\n        \"num_unique_values\": 8,\n        \"samples\": [\n          2016.9562,\n          2017.0,\n          5000.0\n        ],\n        \"semantic_type\": \"\",\n        \"description\": \"\"\n      }\n    },\n    {\n      \"column\": \"Carbon_Footprint_MT\",\n      \"properties\": {\n        \"dtype\": \"number\",\n        \"std\": 1691.7116852716485,\n        \"min\": 1.04,\n        \"max\": 5000.0,\n        \"num_unique_values\": 8,\n        \"samples\": [\n          250.31755,\n          250.65,\n          5000.0\n        ],\n        \"semantic_type\": \"\",\n        \"description\": \"\"\n      }\n    },\n    {\n      \"column\": \"Water_Usage_Liters\",\n      \"properties\": {\n        \"dtype\": \"number\",\n        \"std\": 1740074.5126019937,\n        \"min\": 5000.0,\n        \"max\": 4999596.61,\n        \"num_unique_values\": 8,\n        \"samples\": [\n          2517861.7524339994,\n          2499095.995,\n          5000.0\n        ],\n        \"semantic_type\": \"\",\n        \"description\": \"\"\n      }\n    },\n    {\n      \"column\": \"Waste_Production_KG\",\n      \"properties\": {\n        \"dtype\": \"number\",\n        \"std\": 33983.934187833656,\n        \"min\": 1026.38,\n        \"max\": 99947.85,\n        \"num_unique_values\": 8,\n        \"samples\": [\n          50107.304048000005,\n          50466.34,\n          5000.0\n        ],\n        \"semantic_type\": \"\",\n        \"description\": \"\"\n      }\n    },\n    {\n      \"column\": \"Product_Lines\",\n      \"properties\": {\n        \"dtype\": \"number\",\n        \"std\": 1764.386041461601,\n        \"min\": 1.0,\n        \"max\": 5000.0,\n        \"num_unique_values\": 8,\n        \"samples\": [\n          10.4312,\n          10.0,\n          5000.0\n        ],\n        \"semantic_type\": \"\",\n        \"description\": \"\"\n      }\n    },\n    {\n      \"column\": \"Average_Price_USD\",\n      \"properties\": {\n        \"dtype\": \"number\",\n        \"std\": 1688.6501023340481,\n        \"min\": 20.02,\n        \"max\": 5000.0,\n        \"num_unique_values\": 8,\n        \"samples\": [\n          259.354216,\n          258.615,\n          5000.0\n        ],\n        \"semantic_type\": \"\",\n        \"description\": \"\"\n      }\n    }\n  ]\n}"
            }
          },
          "metadata": {},
          "execution_count": 7
        }
      ],
      "source": [
        "df.describe()"
      ]
    },
    {
      "cell_type": "code",
      "execution_count": null,
      "metadata": {
        "colab": {
          "base_uri": "https://localhost:8080/",
          "height": 554
        },
        "id": "0So8ERNJca4o",
        "outputId": "9ebc4c88-7696-4b1e-a7f4-9af14e7dc173"
      },
      "outputs": [
        {
          "output_type": "execute_result",
          "data": {
            "text/plain": [
              "Brand_ID                         0\n",
              "Brand_Name                       0\n",
              "Country                          0\n",
              "Year                             0\n",
              "Sustainability_Rating            0\n",
              "Material_Type                    0\n",
              "Eco_Friendly_Manufacturing       0\n",
              "Carbon_Footprint_MT              0\n",
              "Water_Usage_Liters               0\n",
              "Waste_Production_KG              0\n",
              "Recycling_Programs               0\n",
              "Product_Lines                    0\n",
              "Average_Price_USD                0\n",
              "Market_Trend                     0\n",
              "Certifications                1004\n",
              "dtype: int64"
            ],
            "text/html": [
              "<div>\n",
              "<style scoped>\n",
              "    .dataframe tbody tr th:only-of-type {\n",
              "        vertical-align: middle;\n",
              "    }\n",
              "\n",
              "    .dataframe tbody tr th {\n",
              "        vertical-align: top;\n",
              "    }\n",
              "\n",
              "    .dataframe thead th {\n",
              "        text-align: right;\n",
              "    }\n",
              "</style>\n",
              "<table border=\"1\" class=\"dataframe\">\n",
              "  <thead>\n",
              "    <tr style=\"text-align: right;\">\n",
              "      <th></th>\n",
              "      <th>0</th>\n",
              "    </tr>\n",
              "  </thead>\n",
              "  <tbody>\n",
              "    <tr>\n",
              "      <th>Brand_ID</th>\n",
              "      <td>0</td>\n",
              "    </tr>\n",
              "    <tr>\n",
              "      <th>Brand_Name</th>\n",
              "      <td>0</td>\n",
              "    </tr>\n",
              "    <tr>\n",
              "      <th>Country</th>\n",
              "      <td>0</td>\n",
              "    </tr>\n",
              "    <tr>\n",
              "      <th>Year</th>\n",
              "      <td>0</td>\n",
              "    </tr>\n",
              "    <tr>\n",
              "      <th>Sustainability_Rating</th>\n",
              "      <td>0</td>\n",
              "    </tr>\n",
              "    <tr>\n",
              "      <th>Material_Type</th>\n",
              "      <td>0</td>\n",
              "    </tr>\n",
              "    <tr>\n",
              "      <th>Eco_Friendly_Manufacturing</th>\n",
              "      <td>0</td>\n",
              "    </tr>\n",
              "    <tr>\n",
              "      <th>Carbon_Footprint_MT</th>\n",
              "      <td>0</td>\n",
              "    </tr>\n",
              "    <tr>\n",
              "      <th>Water_Usage_Liters</th>\n",
              "      <td>0</td>\n",
              "    </tr>\n",
              "    <tr>\n",
              "      <th>Waste_Production_KG</th>\n",
              "      <td>0</td>\n",
              "    </tr>\n",
              "    <tr>\n",
              "      <th>Recycling_Programs</th>\n",
              "      <td>0</td>\n",
              "    </tr>\n",
              "    <tr>\n",
              "      <th>Product_Lines</th>\n",
              "      <td>0</td>\n",
              "    </tr>\n",
              "    <tr>\n",
              "      <th>Average_Price_USD</th>\n",
              "      <td>0</td>\n",
              "    </tr>\n",
              "    <tr>\n",
              "      <th>Market_Trend</th>\n",
              "      <td>0</td>\n",
              "    </tr>\n",
              "    <tr>\n",
              "      <th>Certifications</th>\n",
              "      <td>1004</td>\n",
              "    </tr>\n",
              "  </tbody>\n",
              "</table>\n",
              "</div><br><label><b>dtype:</b> int64</label>"
            ]
          },
          "metadata": {},
          "execution_count": 8
        }
      ],
      "source": [
        "df.isnull().sum()"
      ]
    },
    {
      "cell_type": "code",
      "execution_count": null,
      "metadata": {
        "id": "cSBXOPORcuPo"
      },
      "outputs": [],
      "source": [
        "df = df.dropna(subset=['Certifications'])"
      ]
    },
    {
      "cell_type": "code",
      "execution_count": null,
      "metadata": {
        "colab": {
          "base_uri": "https://localhost:8080/",
          "height": 554
        },
        "id": "A0bOKkS6eShX",
        "outputId": "c5c421b5-70a5-4157-cfce-6e6e753af19a"
      },
      "outputs": [
        {
          "output_type": "execute_result",
          "data": {
            "text/plain": [
              "Brand_ID                      0\n",
              "Brand_Name                    0\n",
              "Country                       0\n",
              "Year                          0\n",
              "Sustainability_Rating         0\n",
              "Material_Type                 0\n",
              "Eco_Friendly_Manufacturing    0\n",
              "Carbon_Footprint_MT           0\n",
              "Water_Usage_Liters            0\n",
              "Waste_Production_KG           0\n",
              "Recycling_Programs            0\n",
              "Product_Lines                 0\n",
              "Average_Price_USD             0\n",
              "Market_Trend                  0\n",
              "Certifications                0\n",
              "dtype: int64"
            ],
            "text/html": [
              "<div>\n",
              "<style scoped>\n",
              "    .dataframe tbody tr th:only-of-type {\n",
              "        vertical-align: middle;\n",
              "    }\n",
              "\n",
              "    .dataframe tbody tr th {\n",
              "        vertical-align: top;\n",
              "    }\n",
              "\n",
              "    .dataframe thead th {\n",
              "        text-align: right;\n",
              "    }\n",
              "</style>\n",
              "<table border=\"1\" class=\"dataframe\">\n",
              "  <thead>\n",
              "    <tr style=\"text-align: right;\">\n",
              "      <th></th>\n",
              "      <th>0</th>\n",
              "    </tr>\n",
              "  </thead>\n",
              "  <tbody>\n",
              "    <tr>\n",
              "      <th>Brand_ID</th>\n",
              "      <td>0</td>\n",
              "    </tr>\n",
              "    <tr>\n",
              "      <th>Brand_Name</th>\n",
              "      <td>0</td>\n",
              "    </tr>\n",
              "    <tr>\n",
              "      <th>Country</th>\n",
              "      <td>0</td>\n",
              "    </tr>\n",
              "    <tr>\n",
              "      <th>Year</th>\n",
              "      <td>0</td>\n",
              "    </tr>\n",
              "    <tr>\n",
              "      <th>Sustainability_Rating</th>\n",
              "      <td>0</td>\n",
              "    </tr>\n",
              "    <tr>\n",
              "      <th>Material_Type</th>\n",
              "      <td>0</td>\n",
              "    </tr>\n",
              "    <tr>\n",
              "      <th>Eco_Friendly_Manufacturing</th>\n",
              "      <td>0</td>\n",
              "    </tr>\n",
              "    <tr>\n",
              "      <th>Carbon_Footprint_MT</th>\n",
              "      <td>0</td>\n",
              "    </tr>\n",
              "    <tr>\n",
              "      <th>Water_Usage_Liters</th>\n",
              "      <td>0</td>\n",
              "    </tr>\n",
              "    <tr>\n",
              "      <th>Waste_Production_KG</th>\n",
              "      <td>0</td>\n",
              "    </tr>\n",
              "    <tr>\n",
              "      <th>Recycling_Programs</th>\n",
              "      <td>0</td>\n",
              "    </tr>\n",
              "    <tr>\n",
              "      <th>Product_Lines</th>\n",
              "      <td>0</td>\n",
              "    </tr>\n",
              "    <tr>\n",
              "      <th>Average_Price_USD</th>\n",
              "      <td>0</td>\n",
              "    </tr>\n",
              "    <tr>\n",
              "      <th>Market_Trend</th>\n",
              "      <td>0</td>\n",
              "    </tr>\n",
              "    <tr>\n",
              "      <th>Certifications</th>\n",
              "      <td>0</td>\n",
              "    </tr>\n",
              "  </tbody>\n",
              "</table>\n",
              "</div><br><label><b>dtype:</b> int64</label>"
            ]
          },
          "metadata": {},
          "execution_count": 10
        }
      ],
      "source": [
        "df.isnull().sum()"
      ]
    },
    {
      "cell_type": "code",
      "execution_count": null,
      "metadata": {
        "colab": {
          "base_uri": "https://localhost:8080/"
        },
        "id": "Rr_4FiILeyn8",
        "outputId": "f806d48a-ee07-42fd-8141-be64befe899c"
      },
      "outputs": [
        {
          "output_type": "execute_result",
          "data": {
            "text/plain": [
              "(3996, 15)"
            ]
          },
          "metadata": {},
          "execution_count": 11
        }
      ],
      "source": [
        "df.shape"
      ]
    },
    {
      "cell_type": "code",
      "execution_count": null,
      "metadata": {
        "colab": {
          "base_uri": "https://localhost:8080/",
          "height": 472
        },
        "id": "4Ijk15ure8xn",
        "outputId": "bacb2708-b59a-4fc8-d7a0-9d928662cf20"
      },
      "outputs": [
        {
          "output_type": "display_data",
          "data": {
            "text/plain": [
              "<Figure size 640x480 with 1 Axes>"
            ],
            "image/png": "[encoded data removed]"
          },
          "metadata": {}
        }
      ],
      "source": [
        "plt.boxplot(df['Average_Price_USD'])\n",
        "plt.title('Boxplot of Year')\n",
        "plt.xlabel('Average_Price_USD')\n",
        "plt.ylabel('Frequency')\n",
        "plt.show()"
      ]
    },
    {
      "cell_type": "code",
      "execution_count": null,
      "metadata": {
        "colab": {
          "base_uri": "https://localhost:8080/",
          "height": 564
        },
        "id": "E-MWUAvyGlN6",
        "outputId": "73f54c91-59fe-4415-fbab-755ffa6f1bd8"
      },
      "outputs": [
        {
          "output_type": "display_data",
          "data": {
            "text/plain": [
              "<Figure size 1000x600 with 1 Axes>"
            ],
            "image/png": "[encoded data removed]"
          },
          "metadata": {}
        }
      ],
      "source": [
        "plt.figure(figsize=(10, 6))\n",
        "sns.countplot(data=df,x='Material_Type')\n",
        "plt.title('Distribution of  Material_Type')\n",
        "plt.xlabel('Material_Type')\n",
        "plt.ylabel('Frequency')\n",
        "plt.show()"
      ]
    },
    {
      "cell_type": "code",
      "execution_count": null,
      "metadata": {
        "colab": {
          "base_uri": "https://localhost:8080/",
          "height": 472
        },
        "id": "WtOv0MoDQ3mk",
        "outputId": "9ae07bbd-0bd8-4fc3-f338-a32b340a8765"
      },
      "outputs": [
        {
          "output_type": "display_data",
          "data": {
            "text/plain": [
              "<Figure size 640x480 with 1 Axes>"
            ],
            "image/png": "[encoded data removed]"
          },
          "metadata": {}
        }
      ],
      "source": [
        "sns.countplot(x='Sustainability_Rating', data=df, hue='Sustainability_Rating', palette='viridis', legend=False)\n",
        "plt.title('Distribution of Sustainability Ratings')\n",
        "plt.xlabel('Sustainability Rating')\n",
        "plt.ylabel('Count')\n",
        "plt.show()"
      ]
    },
    {
      "cell_type": "code",
      "execution_count": null,
      "metadata": {
        "colab": {
          "base_uri": "https://localhost:8080/",
          "height": 564
        },
        "id": "eYJI3KFGHzeB",
        "outputId": "90d663c9-daaa-4997-a835-c2cc0986f0e4"
      },
      "outputs": [
        {
          "output_type": "display_data",
          "data": {
            "text/plain": [
              "<Figure size 1000x600 with 1 Axes>"
            ],
            "image/png": "[encoded data removed]"
          },
          "metadata": {}
        }
      ],
      "source": [
        "plt.figure(figsize=(10, 6))\n",
        "plt.hist(data=df, x='Average_Price_USD', bins=12,edgecolor='black')\n",
        "plt.title('Histogram for Average_Price_USD')\n",
        "plt.xlabel('Average_Price_USD')\n",
        "plt.ylabel('Frequency')\n",
        "plt.show()"
      ]
    },
    {
      "cell_type": "code",
      "execution_count": null,
      "metadata": {
        "colab": {
          "base_uri": "https://localhost:8080/",
          "height": 564
        },
        "id": "UHgK57XkEN-B",
        "outputId": "e65fc2ba-051a-4056-abe6-f3e2aa9dd0e4"
      },
      "outputs": [
        {
          "output_type": "display_data",
          "data": {
            "text/plain": [
              "<Figure size 1200x600 with 1 Axes>"
            ],
            "image/png": "[encoded data removed]"
          },
          "metadata": {}
        }
      ],
      "source": [
        "plt.figure(figsize=(12, 6))\n",
        "sns.countplot(data=df, x=\"Sustainability_Rating\", hue=\"Material_Type\", palette=\"viridis\")\n",
        "plt.title(\"Material Type Distribution across Sustainability Ratings\")\n",
        "plt.xlabel(\"Sustainability Rating\")\n",
        "plt.ylabel(\"Count\")\n",
        "\n",
        "plt.show()"
      ]
    },
    {
      "cell_type": "code",
      "execution_count": null,
      "metadata": {
        "colab": {
          "base_uri": "https://localhost:8080/",
          "height": 472
        },
        "id": "Aoi6xaIVvDxw",
        "outputId": "f2c20924-997d-4eeb-b4a9-175a4d725000"
      },
      "outputs": [
        {
          "output_type": "display_data",
          "data": {
            "text/plain": [
              "<Figure size 640x480 with 1 Axes>"
            ],
            "image/png": "[encoded data removed]"
          },
          "metadata": {}
        }
      ],
      "source": [
        "sns.countplot(y='Country', hue='Material_Type', data=df, palette='muted')\n",
        "plt.title('Material Types Across Countries')\n",
        "plt.show()"
      ]
    },
    {
      "cell_type": "code",
      "execution_count": null,
      "metadata": {
        "colab": {
          "base_uri": "https://localhost:8080/",
          "height": 564
        },
        "id": "LBMTwB6ZLGYd",
        "outputId": "7c071d03-1249-4216-a792-02aed97dfb50"
      },
      "outputs": [
        {
          "output_type": "display_data",
          "data": {
            "text/plain": [
              "<Figure size 1200x600 with 1 Axes>"
            ],
            "image/png": "[encoded data removed]"
          },
          "metadata": {}
        }
      ],
      "source": [
        "plt.figure(figsize=(12, 6))\n",
        "sns.countplot(data=df, x='Market_Trend', hue='Material_Type', palette='viridis')\n",
        "plt.title('Market Trend vs Material Type')\n",
        "plt.xlabel('Market Trend')\n",
        "plt.ylabel('Material Type')\n",
        "plt.show()"
      ]
    },
    {
      "cell_type": "code",
      "source": [
        "sns.pairplot(df, hue='Material_Type', vars=['Sustainability_Rating', 'Average_Price_USD'], diag_kind='hist')\n",
        "plt.show()"
      ],
      "metadata": {
        "colab": {
          "base_uri": "https://localhost:8080/",
          "height": 513
        },
        "id": "aHrvQGpQllX8",
        "outputId": "eb55ee0d-e907-4e53-e10e-fb1596b4f4ab"
      },
      "execution_count": null,
      "outputs": [
        {
          "output_type": "display_data",
          "data": {
            "text/plain": [
              "<Figure size 680.5x500 with 6 Axes>"
            ],
            "image/png": "[encoded data removed]"
          },
          "metadata": {}
        }
      ]
    },
    {
      "cell_type": "markdown",
      "metadata": {
        "id": "Smq9wG2dLSZb"
      },
      "source": [
        "Statistics\n"
      ]
    },
    {
      "cell_type": "markdown",
      "metadata": {
        "id": "wxIHYfDr6M1k"
      },
      "source": [
        "Two sample independent ttest-"
      ]
    },
    {
      "cell_type": "code",
      "execution_count": null,
      "metadata": {
        "colab": {
          "base_uri": "https://localhost:8080/",
          "height": 303
        },
        "id": "21wOC6nq51jn",
        "outputId": "49db5afc-9ce4-4fad-e52d-feca51ddd468"
      },
      "outputs": [
        {
          "output_type": "execute_result",
          "data": {
            "text/plain": [
              "Material_Type\n",
              "Recycled Polyester    696\n",
              "Hemp                  692\n",
              "Bamboo Fabric         661\n",
              "Organic Cotton        661\n",
              "Tencel                645\n",
              "Vegan Leather         641\n",
              "Name: count, dtype: int64"
            ],
            "text/html": [
              "<div>\n",
              "<style scoped>\n",
              "    .dataframe tbody tr th:only-of-type {\n",
              "        vertical-align: middle;\n",
              "    }\n",
              "\n",
              "    .dataframe tbody tr th {\n",
              "        vertical-align: top;\n",
              "    }\n",
              "\n",
              "    .dataframe thead th {\n",
              "        text-align: right;\n",
              "    }\n",
              "</style>\n",
              "<table border=\"1\" class=\"dataframe\">\n",
              "  <thead>\n",
              "    <tr style=\"text-align: right;\">\n",
              "      <th></th>\n",
              "      <th>count</th>\n",
              "    </tr>\n",
              "    <tr>\n",
              "      <th>Material_Type</th>\n",
              "      <th></th>\n",
              "    </tr>\n",
              "  </thead>\n",
              "  <tbody>\n",
              "    <tr>\n",
              "      <th>Recycled Polyester</th>\n",
              "      <td>696</td>\n",
              "    </tr>\n",
              "    <tr>\n",
              "      <th>Hemp</th>\n",
              "      <td>692</td>\n",
              "    </tr>\n",
              "    <tr>\n",
              "      <th>Bamboo Fabric</th>\n",
              "      <td>661</td>\n",
              "    </tr>\n",
              "    <tr>\n",
              "      <th>Organic Cotton</th>\n",
              "      <td>661</td>\n",
              "    </tr>\n",
              "    <tr>\n",
              "      <th>Tencel</th>\n",
              "      <td>645</td>\n",
              "    </tr>\n",
              "    <tr>\n",
              "      <th>Vegan Leather</th>\n",
              "      <td>641</td>\n",
              "    </tr>\n",
              "  </tbody>\n",
              "</table>\n",
              "</div><br><label><b>dtype:</b> int64</label>"
            ]
          },
          "metadata": {},
          "execution_count": 20
        }
      ],
      "source": [
        "df['Material_Type'].value_counts()"
      ]
    },
    {
      "cell_type": "code",
      "execution_count": null,
      "metadata": {
        "colab": {
          "base_uri": "https://localhost:8080/",
          "height": 303
        },
        "id": "aeUJfmgc63XX",
        "outputId": "37e77160-ac10-4636-94a6-e489e4702c26"
      },
      "outputs": [
        {
          "output_type": "execute_result",
          "data": {
            "text/plain": [
              "Material_Type\n",
              "Bamboo Fabric         261.118517\n",
              "Hemp                  260.063280\n",
              "Organic Cotton        260.050106\n",
              "Recycled Polyester    262.006667\n",
              "Tencel                256.288791\n",
              "Vegan Leather         258.713526\n",
              "Name: Average_Price_USD, dtype: float64"
            ],
            "text/html": [
              "<div>\n",
              "<style scoped>\n",
              "    .dataframe tbody tr th:only-of-type {\n",
              "        vertical-align: middle;\n",
              "    }\n",
              "\n",
              "    .dataframe tbody tr th {\n",
              "        vertical-align: top;\n",
              "    }\n",
              "\n",
              "    .dataframe thead th {\n",
              "        text-align: right;\n",
              "    }\n",
              "</style>\n",
              "<table border=\"1\" class=\"dataframe\">\n",
              "  <thead>\n",
              "    <tr style=\"text-align: right;\">\n",
              "      <th></th>\n",
              "      <th>Average_Price_USD</th>\n",
              "    </tr>\n",
              "    <tr>\n",
              "      <th>Material_Type</th>\n",
              "      <th></th>\n",
              "    </tr>\n",
              "  </thead>\n",
              "  <tbody>\n",
              "    <tr>\n",
              "      <th>Bamboo Fabric</th>\n",
              "      <td>261.118517</td>\n",
              "    </tr>\n",
              "    <tr>\n",
              "      <th>Hemp</th>\n",
              "      <td>260.063280</td>\n",
              "    </tr>\n",
              "    <tr>\n",
              "      <th>Organic Cotton</th>\n",
              "      <td>260.050106</td>\n",
              "    </tr>\n",
              "    <tr>\n",
              "      <th>Recycled Polyester</th>\n",
              "      <td>262.006667</td>\n",
              "    </tr>\n",
              "    <tr>\n",
              "      <th>Tencel</th>\n",
              "      <td>256.288791</td>\n",
              "    </tr>\n",
              "    <tr>\n",
              "      <th>Vegan Leather</th>\n",
              "      <td>258.713526</td>\n",
              "    </tr>\n",
              "  </tbody>\n",
              "</table>\n",
              "</div><br><label><b>dtype:</b> float64</label>"
            ]
          },
          "metadata": {},
          "execution_count": 21
        }
      ],
      "source": [
        "df.groupby('Material_Type')['Average_Price_USD'].mean()"
      ]
    },
    {
      "cell_type": "code",
      "execution_count": null,
      "metadata": {
        "id": "tIa2LufB8tvm"
      },
      "outputs": [],
      "source": [
        "Recycled_Polyester=df[df['Material_Type']=='Recycled Polyester']['Average_Price_USD']\n",
        "Recycle_sample=np.random.choice(Recycled_Polyester,600)\n"
      ]
    },
    {
      "cell_type": "code",
      "execution_count": null,
      "metadata": {
        "id": "-tvM1NZK9ffk"
      },
      "outputs": [],
      "source": [
        "Tencel=df[df['Material_Type']=='Tencel']['Average_Price_USD']\n",
        "Tencel_sample=np.random.choice(Tencel,600)"
      ]
    },
    {
      "cell_type": "code",
      "source": [
        "Recycle_sample.mean()"
      ],
      "metadata": {
        "colab": {
          "base_uri": "https://localhost:8080/"
        },
        "id": "sVS3skHYAgA8",
        "outputId": "82e7d697-993f-47e6-86e8-d7c7fbfb32d6"
      },
      "execution_count": null,
      "outputs": [
        {
          "output_type": "execute_result",
          "data": {
            "text/plain": [
              "262.67345"
            ]
          },
          "metadata": {},
          "execution_count": 24
        }
      ]
    },
    {
      "cell_type": "code",
      "execution_count": null,
      "metadata": {
        "colab": {
          "base_uri": "https://localhost:8080/"
        },
        "id": "oKBdUc5j9rqS",
        "outputId": "8696704e-d1c8-48d0-f5fc-90e2257bbf56"
      },
      "outputs": [
        {
          "output_type": "execute_result",
          "data": {
            "text/plain": [
              "253.31248333333332"
            ]
          },
          "metadata": {},
          "execution_count": 25
        }
      ],
      "source": [
        "Tencel_sample.mean()"
      ]
    },
    {
      "cell_type": "code",
      "source": [
        "_,p_value=shapiro(Recycle_sample)\n",
        "if p_value>0.05:\n",
        "  _,p_value=shapiro(Tencel_sample)\n",
        "  if p_value>0.05:\n",
        "    print('Fail to reject the null Hypothesis')\n",
        "  else:\n",
        "    print('Reject the null Hypothesis Tencel_sample ')\n",
        "else:\n",
        "  print('Reject the null Hypothesis Recycle_sample')\n",
        "\n"
      ],
      "metadata": {
        "colab": {
          "base_uri": "https://localhost:8080/"
        },
        "id": "c563hoUSA5ui",
        "outputId": "8c0563db-5abd-4b13-c7d5-8c1f646183d3"
      },
      "execution_count": null,
      "outputs": [
        {
          "output_type": "stream",
          "name": "stdout",
          "text": [
            "Reject the null Hypothesis Recycle_sample\n"
          ]
        }
      ]
    },
    {
      "cell_type": "code",
      "source": [
        "_,p_value=levene(Recycle_sample,Tencel_sample)\n",
        "if p_value>0.05:\n",
        "  print('Fail to reject the null Hypothesis')\n",
        "else:\n",
        "  print('Reject the null Hypothesis')"
      ],
      "metadata": {
        "colab": {
          "base_uri": "https://localhost:8080/"
        },
        "id": "Plac32DpFwTb",
        "outputId": "afd9f615-e203-45c2-f38a-fcef49f30b45"
      },
      "execution_count": null,
      "outputs": [
        {
          "output_type": "stream",
          "name": "stdout",
          "text": [
            "Fail to reject the null Hypothesis\n"
          ]
        }
      ]
    },
    {
      "cell_type": "code",
      "source": [
        "_,p_value=ttest_ind(Recycle_sample,Tencel_sample,equal_var=True)\n",
        "if p_value>0.05:\n",
        "  print('Fail to reject the null Hypothesis')\n",
        "else:\n",
        "  print('Reject the null Hypothesis')"
      ],
      "metadata": {
        "colab": {
          "base_uri": "https://localhost:8080/"
        },
        "id": "CHjtj74VGChr",
        "outputId": "1c5d0f5a-81bc-4310-e0c9-1582aa9acb7e"
      },
      "execution_count": null,
      "outputs": [
        {
          "output_type": "stream",
          "name": "stdout",
          "text": [
            "Fail to reject the null Hypothesis\n"
          ]
        }
      ]
    },
    {
      "cell_type": "code",
      "source": [
        "_,p_value=mannwhitneyu(Recycle_sample,Tencel_sample)\n",
        "if p_value>0.05:\n",
        "  print('Fail to reject the null Hypothesis')\n",
        "else:\n",
        "  print('Reject the null Hypothesis')"
      ],
      "metadata": {
        "colab": {
          "base_uri": "https://localhost:8080/"
        },
        "id": "N1haOo8DGXki",
        "outputId": "4c49c9fa-35d0-4bde-cdf3-daa28847bb4d"
      },
      "execution_count": null,
      "outputs": [
        {
          "output_type": "stream",
          "name": "stdout",
          "text": [
            "Fail to reject the null Hypothesis\n"
          ]
        }
      ]
    },
    {
      "cell_type": "markdown",
      "source": [
        "One way Annova"
      ],
      "metadata": {
        "id": "6F4I7wdGGn81"
      }
    },
    {
      "cell_type": "code",
      "source": [
        "df['Sustainability_Rating'].value_counts()"
      ],
      "metadata": {
        "colab": {
          "base_uri": "https://localhost:8080/",
          "height": 241
        },
        "id": "a1agcKejGqHf",
        "outputId": "7cd1cfca-f616-4b31-c2e4-e996688b7ccb"
      },
      "execution_count": null,
      "outputs": [
        {
          "output_type": "execute_result",
          "data": {
            "text/plain": [
              "Sustainability_Rating\n",
              "B    1022\n",
              "D     998\n",
              "C     994\n",
              "A     982\n",
              "Name: count, dtype: int64"
            ],
            "text/html": [
              "<div>\n",
              "<style scoped>\n",
              "    .dataframe tbody tr th:only-of-type {\n",
              "        vertical-align: middle;\n",
              "    }\n",
              "\n",
              "    .dataframe tbody tr th {\n",
              "        vertical-align: top;\n",
              "    }\n",
              "\n",
              "    .dataframe thead th {\n",
              "        text-align: right;\n",
              "    }\n",
              "</style>\n",
              "<table border=\"1\" class=\"dataframe\">\n",
              "  <thead>\n",
              "    <tr style=\"text-align: right;\">\n",
              "      <th></th>\n",
              "      <th>count</th>\n",
              "    </tr>\n",
              "    <tr>\n",
              "      <th>Sustainability_Rating</th>\n",
              "      <th></th>\n",
              "    </tr>\n",
              "  </thead>\n",
              "  <tbody>\n",
              "    <tr>\n",
              "      <th>B</th>\n",
              "      <td>1022</td>\n",
              "    </tr>\n",
              "    <tr>\n",
              "      <th>D</th>\n",
              "      <td>998</td>\n",
              "    </tr>\n",
              "    <tr>\n",
              "      <th>C</th>\n",
              "      <td>994</td>\n",
              "    </tr>\n",
              "    <tr>\n",
              "      <th>A</th>\n",
              "      <td>982</td>\n",
              "    </tr>\n",
              "  </tbody>\n",
              "</table>\n",
              "</div><br><label><b>dtype:</b> int64</label>"
            ]
          },
          "metadata": {},
          "execution_count": 31
        }
      ]
    },
    {
      "cell_type": "code",
      "source": [
        "A=df[df['Sustainability_Rating']=='A']['Average_Price_USD']\n",
        "B=df[df['Sustainability_Rating']=='B']['Average_Price_USD']\n",
        "C=df[df['Sustainability_Rating']=='C']['Average_Price_USD']\n",
        "D=df[df['Sustainability_Rating']=='D']['Average_Price_USD']"
      ],
      "metadata": {
        "id": "8BSWXz1MG2I8"
      },
      "execution_count": null,
      "outputs": []
    },
    {
      "cell_type": "code",
      "source": [
        "A.mean(),B.mean(),C.mean(),D.mean()"
      ],
      "metadata": {
        "colab": {
          "base_uri": "https://localhost:8080/"
        },
        "id": "RyAUP7tCHAny",
        "outputId": "16149e45-a98e-467d-a953-16a1c972baba"
      },
      "execution_count": null,
      "outputs": [
        {
          "output_type": "execute_result",
          "data": {
            "text/plain": [
              "(256.19396130346234, 262.0312035225049, 257.6622434607646, 262.985871743487)"
            ]
          },
          "metadata": {},
          "execution_count": 33
        }
      ]
    },
    {
      "cell_type": "code",
      "source": [
        "_,p_value=shapiro(A)\n",
        "if p_value>0.05:\n",
        "  _,p_value=shapiro(B)\n",
        "  if p_value>0.05:\n",
        "    _,p_value=shapiro(C)\n",
        "    if p_value>0.05:\n",
        "      _,p_value=shapiro(D)\n",
        "      if p_value>0.05:\n",
        "        print('Fail to reject the null Hypothesis')\n",
        "      else:\n",
        "        print('Reject the null Hypothesis D')\n",
        "    else:\n",
        "      print('Reject the null Hypothesis C')\n",
        "  else:\n",
        "    print('Reject the null Hypothesis B')\n",
        "else:\n",
        "  print('Reject the null Hypothesis A')"
      ],
      "metadata": {
        "colab": {
          "base_uri": "https://localhost:8080/"
        },
        "id": "Hf5afDtNHF7m",
        "outputId": "7e565430-2231-4f35-fd48-dba359ca5da2"
      },
      "execution_count": null,
      "outputs": [
        {
          "output_type": "stream",
          "name": "stdout",
          "text": [
            "Reject the null Hypothesis A\n"
          ]
        }
      ]
    },
    {
      "cell_type": "code",
      "source": [
        "_,p_value=levene(A,B,C,D)\n",
        "if p_value>0.05:\n",
        "  print('Fail to reject the null Hypothesis')\n",
        "else:\n",
        "  print('Reject the null Hypothesis')"
      ],
      "metadata": {
        "colab": {
          "base_uri": "https://localhost:8080/"
        },
        "id": "paUU6OK9HUMU",
        "outputId": "a415c17b-6ce6-4ad3-9f26-bb3649b99dec"
      },
      "execution_count": null,
      "outputs": [
        {
          "output_type": "stream",
          "name": "stdout",
          "text": [
            "Fail to reject the null Hypothesis\n"
          ]
        }
      ]
    },
    {
      "cell_type": "code",
      "source": [
        "_,p_value=f_oneway(A,B,C,D)\n",
        "if p_value>0.05:\n",
        "  print('Fail to reject the null Hypothesis')\n",
        "else:\n",
        "  print('Reject the null Hypothesis')"
      ],
      "metadata": {
        "colab": {
          "base_uri": "https://localhost:8080/"
        },
        "id": "O9KUb7pjHXx_",
        "outputId": "e120421c-b536-4be3-b4b2-a631dfa98aab"
      },
      "execution_count": null,
      "outputs": [
        {
          "output_type": "stream",
          "name": "stdout",
          "text": [
            "Fail to reject the null Hypothesis\n"
          ]
        }
      ]
    },
    {
      "cell_type": "code",
      "source": [
        "_,p_value=kruskal(A,B,C,D)\n",
        "if p_value>0.05:\n",
        "  print('Fail to reject the null Hypothesis')\n",
        "else:\n",
        "  print('Reject the null Hypothesis')"
      ],
      "metadata": {
        "colab": {
          "base_uri": "https://localhost:8080/"
        },
        "id": "SZsmuuD0IIGy",
        "outputId": "10911938-6f7c-45fe-f791-878e439947b5"
      },
      "execution_count": null,
      "outputs": [
        {
          "output_type": "stream",
          "name": "stdout",
          "text": [
            "Fail to reject the null Hypothesis\n"
          ]
        }
      ]
    }
  ],
  "metadata": {
    "colab": {
      "provenance": []
    },
    "kernelspec": {
      "display_name": "Python 3",
      "name": "python3"
    },
    "language_info": {
      "name": "python"
    }
  },
  "nbformat": 4,
  "nbformat_minor": 0
}